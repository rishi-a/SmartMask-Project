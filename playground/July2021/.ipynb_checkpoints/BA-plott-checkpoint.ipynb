{
 "cells": [
  {
   "cell_type": "code",
   "execution_count": 1,
   "metadata": {},
   "outputs": [],
   "source": [
    "import latexify as lt"
   ]
  },
  {
   "cell_type": "code",
   "execution_count": 2,
   "metadata": {},
   "outputs": [],
   "source": [
    "import pandas as pd\n",
    "import matplotlib.pyplot as plt\n",
    "import numpy as np\n",
    "from labellines import labelLines\n",
    "\n",
    "def plot_bland(csv):\n",
    "    df=pd.read_csv(csv)\n",
    "    x=np.array(df['X'])\n",
    "    y=np.array(df['Y'])\n",
    "    avg=(x+y)/2\n",
    "    diff=x-y\n",
    "    ###\n",
    "    mean_diff=np.mean(diff)\n",
    "    sd=np.std(diff)\n",
    "    \n",
    "    \n",
    "    ###\n",
    "    lt.latexify()\n",
    "    plt.figure(figsize=(4, 3))\n",
    "    ax = plt.axes()\n",
    "    ax.scatter(avg,diff)\n",
    "\n",
    "    ax.plot([ min(avg),max(avg)], [ mean_diff,mean_diff], label=('Mean'))\n",
    "    ax.plot([ min(avg),max(avg)], [ mean_diff+1.96*sd,mean_diff+1.96*sd],'r--',label='+1.96SD')\n",
    "    ax.plot([ min(avg),max(avg)], [ mean_diff-1.96*sd,mean_diff-1.96*sd],'r--',label='-1.96SD')\n",
    "    ax.plot([ min(avg),max(avg)], [ 0,0],'k--')\n",
    "    \n",
    "    ax.set_xlabel('Mean')\n",
    "    ax.set_ylabel('Difference')\n",
    "#     ax.legend()\n",
    "    labelLines(plt.gca().get_lines(), zorder=5.5)\n",
    "    lt.format_axes(ax)\n",
    " \n",
    "#     plt.text(0.08, 0.2, 'sin')\n",
    "#     plt.text(0.9, 0.2, 'cos')\n",
    "\n",
    "#     plt.show()\n",
    "\n",
    "    "
   ]
  },
  {
   "cell_type": "code",
   "execution_count": 3,
   "metadata": {},
   "outputs": [
    {
     "name": "stderr",
     "output_type": "stream",
     "text": [
      "C:\\ProgramData\\Anaconda3\\lib\\_collections_abc.py:841: MatplotlibDeprecationWarning: Support for setting the 'text.latex.preamble' or 'pgf.preamble' rcParam to a list of strings is deprecated since 3.3 and will be removed two minor releases later; set it to a single string instead.\n",
      "  self[key] = other[key]\n"
     ]
    },
    {
     "data": {
      "image/png": "[encoded data removed]",
      "text/plain": [
       "<Figure size 288x216 with 1 Axes>"
      ]
     },
     "metadata": {},
     "output_type": "display_data"
    }
   ],
   "source": [
    "plot_bland('sample.csv')"
   ]
  },
  {
   "cell_type": "code",
   "execution_count": null,
   "metadata": {},
   "outputs": [],
   "source": []
  }
 ],
 "metadata": {
  "hide_input": false,
  "kernelspec": {
   "display_name": "Python 3",
   "language": "python",
   "name": "python3"
  },
  "language_info": {
   "codemirror_mode": {
    "name": "ipython",
    "version": 3
   },
   "file_extension": ".py",
   "mimetype": "text/x-python",
   "name": "python",
   "nbconvert_exporter": "python",
   "pygments_lexer": "ipython3",
   "version": "3.6.5"
  }
 },
 "nbformat": 4,
 "nbformat_minor": 2
}
