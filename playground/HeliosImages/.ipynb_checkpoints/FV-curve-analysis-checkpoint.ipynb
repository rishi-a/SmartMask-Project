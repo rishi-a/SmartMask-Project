{
 "cells": [
  {
   "cell_type": "code",
   "execution_count": 8,
   "id": "54804a33",
   "metadata": {},
   "outputs": [],
   "source": [
    "import pandas as pd\n",
    "import numpy as np\n",
    "import os"
   ]
  },
  {
   "cell_type": "code",
   "execution_count": 13,
   "id": "c8c08f31",
   "metadata": {},
   "outputs": [
    {
     "name": "stdout",
     "output_type": "stream",
     "text": [
      "Total files in the directory =  48\n"
     ]
    },
    {
     "data": {
      "text/plain": [
       "<AxesSubplot:>"
      ]
     },
     "execution_count": 13,
     "metadata": {},
     "output_type": "execute_result"
    },
    {
     "data": {
      "image/png": "[encoded data removed]",
      "text/plain": [
       "<Figure size 432x288 with 1 Axes>"
      ]
     },
     "metadata": {
      "needs_background": "light"
     },
     "output_type": "display_data"
    }
   ],
   "source": [
    "print(\"Total files in the directory = \",len(os.listdir('images')))\n",
    "df = pd.read_csv(\"csv/11_Dipan.csv\",names=['VT','FV'])\n",
    "df['VT'].plot()\n",
    "#df.plot()"
   ]
  },
  {
   "cell_type": "code",
   "execution_count": 51,
   "id": "6638baee",
   "metadata": {},
   "outputs": [],
   "source": [
    "audioFiles = os.listdir('spiromask-export/forced-breathing/')\n",
    "participantID = []\n",
    "for file in audioFiles:\n",
    "    try:\n",
    "        if file.split('.')[2] == 'FVC_N95':\n",
    "            count+=1\n",
    "            participantID.append(int(file.split('.')[1][1:]))\n",
    "    except:\n",
    "        pass"
   ]
  },
  {
   "cell_type": "code",
   "execution_count": 63,
   "id": "4f0bca0a",
   "metadata": {},
   "outputs": [
    {
     "name": "stdout",
     "output_type": "stream",
     "text": [
      "Yes\n",
      "Yes\n",
      "Yes\n",
      "Yes\n",
      "Yes\n",
      "Yes\n",
      "Yes\n",
      "Yes\n",
      "Yes\n",
      "Yes\n",
      "Yes\n",
      "Yes\n",
      "zeel_Zeel.png\n",
      "Yes\n",
      "Yes\n",
      "Yes\n",
      "Yes\n",
      "Yes\n",
      "Yes\n",
      "Yes\n",
      "Yes\n",
      "Yes\n",
      "Yes\n",
      "Yes\n",
      "Yes\n",
      "Yes\n",
      "Yes\n",
      "sumit_Sumit.png\n",
      "Yes\n",
      "Yes\n",
      "Yes\n",
      "Yes\n",
      "Yes\n",
      "Yes\n",
      "Yes\n",
      "Yes\n",
      "Yes\n",
      "Yes\n",
      "rohit_Rohit.png\n",
      "Yes\n",
      "Yes\n",
      "Yes\n",
      "Yes\n",
      "Yes\n",
      "Yes\n",
      "Yes\n",
      "Yes\n",
      "Yes\n"
     ]
    }
   ],
   "source": [
    "heliosImageFiles = os.listdir('images/')\n",
    "\n",
    "\n",
    "for image in heliosImageFiles:\n",
    "    try:\n",
    "        if image[:2][1] == '_': \n",
    "            if int(image[:1]) in participantID:\n",
    "                print(\"Yes\")\n",
    "            else:\n",
    "                print(\"No\")\n",
    "        else:\n",
    "            if int(image[:2]) in participantID:\n",
    "                print(\"Yes\")\n",
    "            else:\n",
    "                print(\"No\")\n",
    "    except:\n",
    "        print(image)"
   ]
  },
  {
   "cell_type": "code",
   "execution_count": 62,
   "id": "2fddfaf2",
   "metadata": {},
   "outputs": [
    {
     "data": {
      "text/plain": [
       "[51,\n",
       " 16,\n",
       " 31,\n",
       " 19,\n",
       " 20,\n",
       " 52,\n",
       " 9,\n",
       " 27,\n",
       " 2,\n",
       " 33,\n",
       " 28,\n",
       " 29,\n",
       " 7,\n",
       " 8,\n",
       " 22,\n",
       " 38,\n",
       " 48,\n",
       " 43,\n",
       " 24,\n",
       " 37,\n",
       " 4,\n",
       " 59,\n",
       " 39,\n",
       " 41,\n",
       " 1,\n",
       " 25,\n",
       " 40,\n",
       " 49,\n",
       " 30,\n",
       " 12,\n",
       " 26,\n",
       " 57,\n",
       " 15,\n",
       " 21,\n",
       " 60,\n",
       " 47,\n",
       " 0,\n",
       " 34,\n",
       " 3,\n",
       " 55,\n",
       " 53,\n",
       " 11,\n",
       " 61,\n",
       " 14,\n",
       " 13,\n",
       " 6,\n",
       " 44,\n",
       " 56,\n",
       " 54,\n",
       " 63,\n",
       " 35,\n",
       " 5,\n",
       " 46,\n",
       " 36,\n",
       " 18,\n",
       " 62,\n",
       " 32,\n",
       " 50,\n",
       " 10,\n",
       " 58,\n",
       " 45,\n",
       " 23,\n",
       " 42,\n",
       " 17]"
      ]
     },
     "execution_count": 62,
     "metadata": {},
     "output_type": "execute_result"
    }
   ],
   "source": [
    "participantID"
   ]
  },
  {
   "cell_type": "code",
   "execution_count": null,
   "id": "21ac18da",
   "metadata": {},
   "outputs": [],
   "source": []
  }
 ],
 "metadata": {
  "kernelspec": {
   "display_name": "Python 3 (ipykernel)",
   "language": "python",
   "name": "python3"
  },
  "language_info": {
   "codemirror_mode": {
    "name": "ipython",
    "version": 3
   },
   "file_extension": ".py",
   "mimetype": "text/x-python",
   "name": "python",
   "nbconvert_exporter": "python",
   "pygments_lexer": "ipython3",
   "version": "3.9.12"
  }
 },
 "nbformat": 4,
 "nbformat_minor": 5
}
