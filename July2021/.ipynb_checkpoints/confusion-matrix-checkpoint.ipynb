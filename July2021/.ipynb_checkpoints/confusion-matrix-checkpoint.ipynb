{
 "cells": [
  {
   "cell_type": "code",
   "execution_count": 2,
   "metadata": {},
   "outputs": [],
   "source": [
    "import latexify as lt"
   ]
  },
  {
   "cell_type": "code",
   "execution_count": 6,
   "metadata": {},
   "outputs": [
    {
     "data": {
      "image/png": "[encoded data removed]",
      "text/plain": [
       "<Figure size 244.08x144 with 2 Axes>"
      ]
     },
     "metadata": {},
     "output_type": "display_data"
    }
   ],
   "source": [
    "import seaborn as sn\n",
    "import pandas as pd\n",
    "import matplotlib.pyplot as plt\n",
    "lt.latexify(columns=1, fig_height=2)\n",
    "fig, ax = plt.subplots(1,1)\n",
    "\n",
    "array = [[94.5,0.6,4.9],\n",
    "         [0.9,98.6,0.5],\n",
    "         [0.7,0,99.3]]\n",
    "\n",
    "df_cm = pd.DataFrame(array, ['Noise', 'Speech', 'Tidal\\nBreathing'], ['Noise', 'Speech', 'Tidal\\nBreathing'])\n",
    "#plt.figure(figsize=(10,7))\n",
    "\n",
    "#sn.heatmap(df_cm, annot=True)\n",
    "ax = sn.heatmap(df_cm, annot=True, annot_kws={\"size\": 15}, fmt='g', cbar_kws={'label': 'Percentage'}, ax=ax) # font size\n",
    "\n",
    "ax.set_xlabel('Predicted Class');\n",
    "ax.set_ylabel('Ground Truth');\n",
    "\n",
    "\n",
    "lt.format_axes(ax)\n",
    "plt.yticks(rotation=0) \n",
    "plt.tight_layout()\n",
    "plt.savefig(\"confusion-matrix.pdf\", bbox_inches='tight')"
   ]
  },
  {
   "cell_type": "code",
   "execution_count": null,
   "metadata": {},
   "outputs": [],
   "source": []
  }
 ],
 "metadata": {
  "hide_input": false,
  "kernelspec": {
   "display_name": "Python 3",
   "language": "python",
   "name": "python3"
  },
  "language_info": {
   "codemirror_mode": {
    "name": "ipython",
    "version": 3
   },
   "file_extension": ".py",
   "mimetype": "text/x-python",
   "name": "python",
   "nbconvert_exporter": "python",
   "pygments_lexer": "ipython3",
   "version": "3.6.5"
  }
 },
 "nbformat": 4,
 "nbformat_minor": 2
}
