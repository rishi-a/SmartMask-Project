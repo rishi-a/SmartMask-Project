{
 "cells": [
  {
   "cell_type": "code",
   "execution_count": 1,
   "metadata": {},
   "outputs": [],
   "source": [
    "import pandas as pd\n",
    "import numpy as np\n",
    "import tsfel\n",
    "import librosa\n",
    "import speechpy\n",
    "import pickle"
   ]
  },
  {
   "cell_type": "code",
   "execution_count": 2,
   "metadata": {},
   "outputs": [
    {
     "name": "stdout",
     "output_type": "stream",
     "text": [
      "Total Data Points =  25\n"
     ]
    },
    {
     "data": {
      "text/html": [
       "<div>\n",
       "<style scoped>\n",
       "    .dataframe tbody tr th:only-of-type {\n",
       "        vertical-align: middle;\n",
       "    }\n",
       "\n",
       "    .dataframe tbody tr th {\n",
       "        vertical-align: top;\n",
       "    }\n",
       "\n",
       "    .dataframe thead th {\n",
       "        text-align: right;\n",
       "    }\n",
       "</style>\n",
       "<table border=\"1\" class=\"dataframe\">\n",
       "  <thead>\n",
       "    <tr style=\"text-align: right;\">\n",
       "      <th></th>\n",
       "      <th>Name</th>\n",
       "      <th>Filename</th>\n",
       "      <th>rPEF</th>\n",
       "      <th>rFEV1</th>\n",
       "      <th>rFVC</th>\n",
       "      <th>rRatio</th>\n",
       "      <th>gPEF</th>\n",
       "      <th>gFEV1</th>\n",
       "      <th>gFVC</th>\n",
       "      <th>gRatio</th>\n",
       "      <th>Sex</th>\n",
       "      <th>LH</th>\n",
       "    </tr>\n",
       "  </thead>\n",
       "  <tbody>\n",
       "    <tr>\n",
       "      <th>0</th>\n",
       "      <td>Maithili01</td>\n",
       "      <td>Maithili01.FVC_C.2b677eno.wav</td>\n",
       "      <td>1.66</td>\n",
       "      <td>0.08</td>\n",
       "      <td>2.67</td>\n",
       "      <td>2.996255</td>\n",
       "      <td>4.39</td>\n",
       "      <td>2.12</td>\n",
       "      <td>2.86</td>\n",
       "      <td>74.125874</td>\n",
       "      <td>F</td>\n",
       "      <td>Y</td>\n",
       "    </tr>\n",
       "    <tr>\n",
       "      <th>1</th>\n",
       "      <td>Rahul01</td>\n",
       "      <td>Rahul01.FVC_C.2b8ks79f.wav</td>\n",
       "      <td>1.02</td>\n",
       "      <td>0.03</td>\n",
       "      <td>1.21</td>\n",
       "      <td>2.479339</td>\n",
       "      <td>7.00</td>\n",
       "      <td>3.43</td>\n",
       "      <td>3.43</td>\n",
       "      <td>100.000000</td>\n",
       "      <td>M</td>\n",
       "      <td>Y</td>\n",
       "    </tr>\n",
       "    <tr>\n",
       "      <th>2</th>\n",
       "      <td>ShikhaD01</td>\n",
       "      <td>ShikhaD01.FVC_C.2b6c0d7k.wav</td>\n",
       "      <td>2.13</td>\n",
       "      <td>0.09</td>\n",
       "      <td>3.27</td>\n",
       "      <td>2.752294</td>\n",
       "      <td>4.50</td>\n",
       "      <td>1.92</td>\n",
       "      <td>2.07</td>\n",
       "      <td>92.753623</td>\n",
       "      <td>F</td>\n",
       "      <td>Y</td>\n",
       "    </tr>\n",
       "    <tr>\n",
       "      <th>3</th>\n",
       "      <td>Vignesh01</td>\n",
       "      <td>Vignesh01.FVC_C.2bb95nom.wav</td>\n",
       "      <td>3.11</td>\n",
       "      <td>0.11</td>\n",
       "      <td>2.97</td>\n",
       "      <td>3.703704</td>\n",
       "      <td>7.12</td>\n",
       "      <td>3.16</td>\n",
       "      <td>3.28</td>\n",
       "      <td>96.341463</td>\n",
       "      <td>M</td>\n",
       "      <td>Y</td>\n",
       "    </tr>\n",
       "    <tr>\n",
       "      <th>4</th>\n",
       "      <td>Yash01</td>\n",
       "      <td>Yash01.FVC_C.2b8n937i.wav</td>\n",
       "      <td>1.24</td>\n",
       "      <td>0.10</td>\n",
       "      <td>1.24</td>\n",
       "      <td>8.064516</td>\n",
       "      <td>7.81</td>\n",
       "      <td>2.96</td>\n",
       "      <td>2.96</td>\n",
       "      <td>100.000000</td>\n",
       "      <td>M</td>\n",
       "      <td>Y</td>\n",
       "    </tr>\n",
       "    <tr>\n",
       "      <th>5</th>\n",
       "      <td>Sandra01</td>\n",
       "      <td>Sandra01.FVC_C.2bdaignt.wav</td>\n",
       "      <td>1.03</td>\n",
       "      <td>0.06</td>\n",
       "      <td>1.04</td>\n",
       "      <td>5.769231</td>\n",
       "      <td>4.07</td>\n",
       "      <td>2.59</td>\n",
       "      <td>2.67</td>\n",
       "      <td>97.003745</td>\n",
       "      <td>F</td>\n",
       "      <td>Y</td>\n",
       "    </tr>\n",
       "    <tr>\n",
       "      <th>6</th>\n",
       "      <td>Hatim01</td>\n",
       "      <td>Hatim01.FVC_C.2be1a9u6.wav</td>\n",
       "      <td>2.03</td>\n",
       "      <td>0.07</td>\n",
       "      <td>2.40</td>\n",
       "      <td>2.916667</td>\n",
       "      <td>2.52</td>\n",
       "      <td>0.61</td>\n",
       "      <td>2.73</td>\n",
       "      <td>22.344322</td>\n",
       "      <td>M</td>\n",
       "      <td>Y</td>\n",
       "    </tr>\n",
       "    <tr>\n",
       "      <th>7</th>\n",
       "      <td>Maithili02</td>\n",
       "      <td>Maithili02.FVC_C.2b676jbf.wav</td>\n",
       "      <td>2.08</td>\n",
       "      <td>0.12</td>\n",
       "      <td>2.67</td>\n",
       "      <td>4.494382</td>\n",
       "      <td>4.39</td>\n",
       "      <td>2.12</td>\n",
       "      <td>2.86</td>\n",
       "      <td>74.125874</td>\n",
       "      <td>F</td>\n",
       "      <td>Y</td>\n",
       "    </tr>\n",
       "    <tr>\n",
       "      <th>8</th>\n",
       "      <td>Kaushal01</td>\n",
       "      <td>Kaushal01.FVC_C.06.LCL.2bldi9ts.wav</td>\n",
       "      <td>2.01</td>\n",
       "      <td>0.08</td>\n",
       "      <td>2.77</td>\n",
       "      <td>2.888087</td>\n",
       "      <td>8.42</td>\n",
       "      <td>3.36</td>\n",
       "      <td>3.60</td>\n",
       "      <td>93.333333</td>\n",
       "      <td>M</td>\n",
       "      <td>Y</td>\n",
       "    </tr>\n",
       "    <tr>\n",
       "      <th>9</th>\n",
       "      <td>Kaushal02</td>\n",
       "      <td>Kaushal02.FVC_C.06.LCL.2bldi9ts.wav</td>\n",
       "      <td>1.29</td>\n",
       "      <td>0.06</td>\n",
       "      <td>2.60</td>\n",
       "      <td>2.307692</td>\n",
       "      <td>8.42</td>\n",
       "      <td>3.36</td>\n",
       "      <td>3.60</td>\n",
       "      <td>93.333333</td>\n",
       "      <td>M</td>\n",
       "      <td>Y</td>\n",
       "    </tr>\n",
       "    <tr>\n",
       "      <th>10</th>\n",
       "      <td>Alok01</td>\n",
       "      <td>Alok01.FVC_C.2blkl0aa.wav</td>\n",
       "      <td>1.75</td>\n",
       "      <td>0.14</td>\n",
       "      <td>2.04</td>\n",
       "      <td>6.862745</td>\n",
       "      <td>7.98</td>\n",
       "      <td>3.33</td>\n",
       "      <td>3.76</td>\n",
       "      <td>88.563830</td>\n",
       "      <td>M</td>\n",
       "      <td>N</td>\n",
       "    </tr>\n",
       "    <tr>\n",
       "      <th>11</th>\n",
       "      <td>Monika01</td>\n",
       "      <td>Monika01.FVC_C.2blm3kre.wav</td>\n",
       "      <td>2.86</td>\n",
       "      <td>0.28</td>\n",
       "      <td>8.00</td>\n",
       "      <td>3.500000</td>\n",
       "      <td>6.86</td>\n",
       "      <td>2.78</td>\n",
       "      <td>2.89</td>\n",
       "      <td>96.193772</td>\n",
       "      <td>F</td>\n",
       "      <td>N</td>\n",
       "    </tr>\n",
       "    <tr>\n",
       "      <th>12</th>\n",
       "      <td>Alok02</td>\n",
       "      <td>Alok02.FVC_C.2blkl0aa.wav</td>\n",
       "      <td>2.50</td>\n",
       "      <td>0.10</td>\n",
       "      <td>3.11</td>\n",
       "      <td>3.215434</td>\n",
       "      <td>7.98</td>\n",
       "      <td>3.33</td>\n",
       "      <td>3.76</td>\n",
       "      <td>88.563830</td>\n",
       "      <td>M</td>\n",
       "      <td>N</td>\n",
       "    </tr>\n",
       "    <tr>\n",
       "      <th>13</th>\n",
       "      <td>Rik01</td>\n",
       "      <td>Rik01.FVC_C.2bql7p8d.wav</td>\n",
       "      <td>1.52</td>\n",
       "      <td>0.02</td>\n",
       "      <td>4.44</td>\n",
       "      <td>0.450450</td>\n",
       "      <td>9.18</td>\n",
       "      <td>3.01</td>\n",
       "      <td>3.31</td>\n",
       "      <td>90.936556</td>\n",
       "      <td>M</td>\n",
       "      <td>Y</td>\n",
       "    </tr>\n",
       "    <tr>\n",
       "      <th>14</th>\n",
       "      <td>Rik02</td>\n",
       "      <td>Rik02.FVC_C.2bql8pcq.wav</td>\n",
       "      <td>1.43</td>\n",
       "      <td>0.02</td>\n",
       "      <td>4.64</td>\n",
       "      <td>0.431034</td>\n",
       "      <td>9.18</td>\n",
       "      <td>3.01</td>\n",
       "      <td>3.31</td>\n",
       "      <td>90.936556</td>\n",
       "      <td>M</td>\n",
       "      <td>Y</td>\n",
       "    </tr>\n",
       "  </tbody>\n",
       "</table>\n",
       "</div>"
      ],
      "text/plain": [
       "          Name                             Filename  rPEF  rFEV1  rFVC  \\\n",
       "0   Maithili01        Maithili01.FVC_C.2b677eno.wav  1.66   0.08  2.67   \n",
       "1      Rahul01           Rahul01.FVC_C.2b8ks79f.wav  1.02   0.03  1.21   \n",
       "2    ShikhaD01         ShikhaD01.FVC_C.2b6c0d7k.wav  2.13   0.09  3.27   \n",
       "3    Vignesh01         Vignesh01.FVC_C.2bb95nom.wav  3.11   0.11  2.97   \n",
       "4       Yash01            Yash01.FVC_C.2b8n937i.wav  1.24   0.10  1.24   \n",
       "5     Sandra01          Sandra01.FVC_C.2bdaignt.wav  1.03   0.06  1.04   \n",
       "6      Hatim01           Hatim01.FVC_C.2be1a9u6.wav  2.03   0.07  2.40   \n",
       "7   Maithili02        Maithili02.FVC_C.2b676jbf.wav  2.08   0.12  2.67   \n",
       "8    Kaushal01  Kaushal01.FVC_C.06.LCL.2bldi9ts.wav  2.01   0.08  2.77   \n",
       "9    Kaushal02  Kaushal02.FVC_C.06.LCL.2bldi9ts.wav  1.29   0.06  2.60   \n",
       "10      Alok01            Alok01.FVC_C.2blkl0aa.wav  1.75   0.14  2.04   \n",
       "11    Monika01          Monika01.FVC_C.2blm3kre.wav  2.86   0.28  8.00   \n",
       "12      Alok02            Alok02.FVC_C.2blkl0aa.wav  2.50   0.10  3.11   \n",
       "13       Rik01             Rik01.FVC_C.2bql7p8d.wav  1.52   0.02  4.44   \n",
       "14       Rik02             Rik02.FVC_C.2bql8pcq.wav  1.43   0.02  4.64   \n",
       "\n",
       "      rRatio  gPEF  gFEV1  gFVC      gRatio Sex LH  \n",
       "0   2.996255  4.39   2.12  2.86   74.125874   F  Y  \n",
       "1   2.479339  7.00   3.43  3.43  100.000000   M  Y  \n",
       "2   2.752294  4.50   1.92  2.07   92.753623   F  Y  \n",
       "3   3.703704  7.12   3.16  3.28   96.341463   M  Y  \n",
       "4   8.064516  7.81   2.96  2.96  100.000000   M  Y  \n",
       "5   5.769231  4.07   2.59  2.67   97.003745   F  Y  \n",
       "6   2.916667  2.52   0.61  2.73   22.344322   M  Y  \n",
       "7   4.494382  4.39   2.12  2.86   74.125874   F  Y  \n",
       "8   2.888087  8.42   3.36  3.60   93.333333   M  Y  \n",
       "9   2.307692  8.42   3.36  3.60   93.333333   M  Y  \n",
       "10  6.862745  7.98   3.33  3.76   88.563830   M  N  \n",
       "11  3.500000  6.86   2.78  2.89   96.193772   F  N  \n",
       "12  3.215434  7.98   3.33  3.76   88.563830   M  N  \n",
       "13  0.450450  9.18   3.01  3.31   90.936556   M  Y  \n",
       "14  0.431034  9.18   3.01  3.31   90.936556   M  Y  "
      ]
     },
     "execution_count": 2,
     "metadata": {},
     "output_type": "execute_result"
    }
   ],
   "source": [
    "#the file where all data is arranged.\n",
    "n95 = pd.read_csv(\"data_FVC_Cloth.csv\")\n",
    "print(\"Total Data Points = \",len(n95))\n",
    "n95.head(15)"
   ]
  },
  {
   "cell_type": "code",
   "execution_count": 3,
   "metadata": {},
   "outputs": [],
   "source": [
    "def getTSfeatures(filepath):\n",
    "    ys, fs = librosa.load(filepath)\n",
    "    ys = speechpy.processing.preemphasis(ys, cof=0.98)\n",
    "    \n",
    "    cfg = tsfel.get_features_by_domain()\n",
    "    stat_features = np.array(tsfel.time_series_features_extractor(cfg, ys, fs=16000, window=500))[0]\n",
    "    return stat_features"
   ]
  },
  {
   "cell_type": "code",
   "execution_count": 4,
   "metadata": {},
   "outputs": [
    {
     "name": "stdout",
     "output_type": "stream",
     "text": [
      "*** Feature extraction started ***\n",
      "60\n"
     ]
    },
    {
     "data": {
      "text/html": [
       "\n",
       "              <p>\n",
       "                  Progress: 100% Complete\n",
       "              <p/>            \n",
       "              <progress\n",
       "                  value='60'\n",
       "                  max='60',\n",
       "                  style='width: 25%',\n",
       "              >\n",
       "                  60\n",
       "              </progress>\n",
       "\n",
       "    "
      ],
      "text/plain": [
       "<IPython.core.display.HTML object>"
      ]
     },
     "metadata": {},
     "output_type": "display_data"
    },
    {
     "name": "stdout",
     "output_type": "stream",
     "text": [
      "*** Feature extraction started ***\n",
      "60\n"
     ]
    },
    {
     "data": {
      "text/html": [
       "\n",
       "              <p>\n",
       "                  Progress: 100% Complete\n",
       "              <p/>            \n",
       "              <progress\n",
       "                  value='60'\n",
       "                  max='60',\n",
       "                  style='width: 25%',\n",
       "              >\n",
       "                  60\n",
       "              </progress>\n",
       "\n",
       "    "
      ],
      "text/plain": [
       "<IPython.core.display.HTML object>"
      ]
     },
     "metadata": {},
     "output_type": "display_data"
    },
    {
     "name": "stdout",
     "output_type": "stream",
     "text": [
      "*** Feature extraction started ***\n",
      "60\n"
     ]
    },
    {
     "data": {
      "text/html": [
       "\n",
       "              <p>\n",
       "                  Progress: 100% Complete\n",
       "              <p/>            \n",
       "              <progress\n",
       "                  value='60'\n",
       "                  max='60',\n",
       "                  style='width: 25%',\n",
       "              >\n",
       "                  60\n",
       "              </progress>\n",
       "\n",
       "    "
      ],
      "text/plain": [
       "<IPython.core.display.HTML object>"
      ]
     },
     "metadata": {},
     "output_type": "display_data"
    },
    {
     "name": "stdout",
     "output_type": "stream",
     "text": [
      "*** Feature extraction started ***\n",
      "60\n"
     ]
    },
    {
     "data": {
      "text/html": [
       "\n",
       "              <p>\n",
       "                  Progress: 100% Complete\n",
       "              <p/>            \n",
       "              <progress\n",
       "                  value='60'\n",
       "                  max='60',\n",
       "                  style='width: 25%',\n",
       "              >\n",
       "                  60\n",
       "              </progress>\n",
       "\n",
       "    "
      ],
      "text/plain": [
       "<IPython.core.display.HTML object>"
      ]
     },
     "metadata": {},
     "output_type": "display_data"
    },
    {
     "name": "stdout",
     "output_type": "stream",
     "text": [
      "*** Feature extraction started ***\n",
      "60\n"
     ]
    },
    {
     "data": {
      "text/html": [
       "\n",
       "              <p>\n",
       "                  Progress: 100% Complete\n",
       "              <p/>            \n",
       "              <progress\n",
       "                  value='60'\n",
       "                  max='60',\n",
       "                  style='width: 25%',\n",
       "              >\n",
       "                  60\n",
       "              </progress>\n",
       "\n",
       "    "
      ],
      "text/plain": [
       "<IPython.core.display.HTML object>"
      ]
     },
     "metadata": {},
     "output_type": "display_data"
    },
    {
     "name": "stdout",
     "output_type": "stream",
     "text": [
      "*** Feature extraction started ***\n",
      "60\n"
     ]
    },
    {
     "data": {
      "text/html": [
       "\n",
       "              <p>\n",
       "                  Progress: 100% Complete\n",
       "              <p/>            \n",
       "              <progress\n",
       "                  value='60'\n",
       "                  max='60',\n",
       "                  style='width: 25%',\n",
       "              >\n",
       "                  60\n",
       "              </progress>\n",
       "\n",
       "    "
      ],
      "text/plain": [
       "<IPython.core.display.HTML object>"
      ]
     },
     "metadata": {},
     "output_type": "display_data"
    },
    {
     "name": "stdout",
     "output_type": "stream",
     "text": [
      "*** Feature extraction started ***\n",
      "60\n"
     ]
    },
    {
     "data": {
      "text/html": [
       "\n",
       "              <p>\n",
       "                  Progress: 100% Complete\n",
       "              <p/>            \n",
       "              <progress\n",
       "                  value='60'\n",
       "                  max='60',\n",
       "                  style='width: 25%',\n",
       "              >\n",
       "                  60\n",
       "              </progress>\n",
       "\n",
       "    "
      ],
      "text/plain": [
       "<IPython.core.display.HTML object>"
      ]
     },
     "metadata": {},
     "output_type": "display_data"
    },
    {
     "name": "stdout",
     "output_type": "stream",
     "text": [
      "*** Feature extraction started ***\n",
      "60\n"
     ]
    },
    {
     "data": {
      "text/html": [
       "\n",
       "              <p>\n",
       "                  Progress: 100% Complete\n",
       "              <p/>            \n",
       "              <progress\n",
       "                  value='60'\n",
       "                  max='60',\n",
       "                  style='width: 25%',\n",
       "              >\n",
       "                  60\n",
       "              </progress>\n",
       "\n",
       "    "
      ],
      "text/plain": [
       "<IPython.core.display.HTML object>"
      ]
     },
     "metadata": {},
     "output_type": "display_data"
    },
    {
     "name": "stdout",
     "output_type": "stream",
     "text": [
      "*** Feature extraction started ***\n",
      "60\n"
     ]
    },
    {
     "data": {
      "text/html": [
       "\n",
       "              <p>\n",
       "                  Progress: 100% Complete\n",
       "              <p/>            \n",
       "              <progress\n",
       "                  value='60'\n",
       "                  max='60',\n",
       "                  style='width: 25%',\n",
       "              >\n",
       "                  60\n",
       "              </progress>\n",
       "\n",
       "    "
      ],
      "text/plain": [
       "<IPython.core.display.HTML object>"
      ]
     },
     "metadata": {},
     "output_type": "display_data"
    },
    {
     "name": "stdout",
     "output_type": "stream",
     "text": [
      "*** Feature extraction started ***\n",
      "60\n"
     ]
    },
    {
     "data": {
      "text/html": [
       "\n",
       "              <p>\n",
       "                  Progress: 100% Complete\n",
       "              <p/>            \n",
       "              <progress\n",
       "                  value='60'\n",
       "                  max='60',\n",
       "                  style='width: 25%',\n",
       "              >\n",
       "                  60\n",
       "              </progress>\n",
       "\n",
       "    "
      ],
      "text/plain": [
       "<IPython.core.display.HTML object>"
      ]
     },
     "metadata": {},
     "output_type": "display_data"
    },
    {
     "name": "stdout",
     "output_type": "stream",
     "text": [
      "*** Feature extraction started ***\n",
      "60\n"
     ]
    },
    {
     "data": {
      "text/html": [
       "\n",
       "              <p>\n",
       "                  Progress: 100% Complete\n",
       "              <p/>            \n",
       "              <progress\n",
       "                  value='60'\n",
       "                  max='60',\n",
       "                  style='width: 25%',\n",
       "              >\n",
       "                  60\n",
       "              </progress>\n",
       "\n",
       "    "
      ],
      "text/plain": [
       "<IPython.core.display.HTML object>"
      ]
     },
     "metadata": {},
     "output_type": "display_data"
    },
    {
     "name": "stdout",
     "output_type": "stream",
     "text": [
      "*** Feature extraction started ***\n",
      "60\n"
     ]
    },
    {
     "data": {
      "text/html": [
       "\n",
       "              <p>\n",
       "                  Progress: 100% Complete\n",
       "              <p/>            \n",
       "              <progress\n",
       "                  value='60'\n",
       "                  max='60',\n",
       "                  style='width: 25%',\n",
       "              >\n",
       "                  60\n",
       "              </progress>\n",
       "\n",
       "    "
      ],
      "text/plain": [
       "<IPython.core.display.HTML object>"
      ]
     },
     "metadata": {},
     "output_type": "display_data"
    },
    {
     "name": "stdout",
     "output_type": "stream",
     "text": [
      "*** Feature extraction started ***\n",
      "60\n"
     ]
    },
    {
     "data": {
      "text/html": [
       "\n",
       "              <p>\n",
       "                  Progress: 100% Complete\n",
       "              <p/>            \n",
       "              <progress\n",
       "                  value='60'\n",
       "                  max='60',\n",
       "                  style='width: 25%',\n",
       "              >\n",
       "                  60\n",
       "              </progress>\n",
       "\n",
       "    "
      ],
      "text/plain": [
       "<IPython.core.display.HTML object>"
      ]
     },
     "metadata": {},
     "output_type": "display_data"
    },
    {
     "name": "stdout",
     "output_type": "stream",
     "text": [
      "*** Feature extraction started ***\n",
      "60\n"
     ]
    },
    {
     "data": {
      "text/html": [
       "\n",
       "              <p>\n",
       "                  Progress: 100% Complete\n",
       "              <p/>            \n",
       "              <progress\n",
       "                  value='60'\n",
       "                  max='60',\n",
       "                  style='width: 25%',\n",
       "              >\n",
       "                  60\n",
       "              </progress>\n",
       "\n",
       "    "
      ],
      "text/plain": [
       "<IPython.core.display.HTML object>"
      ]
     },
     "metadata": {},
     "output_type": "display_data"
    },
    {
     "name": "stdout",
     "output_type": "stream",
     "text": [
      "*** Feature extraction started ***\n",
      "60\n"
     ]
    },
    {
     "data": {
      "text/html": [
       "\n",
       "              <p>\n",
       "                  Progress: 100% Complete\n",
       "              <p/>            \n",
       "              <progress\n",
       "                  value='60'\n",
       "                  max='60',\n",
       "                  style='width: 25%',\n",
       "              >\n",
       "                  60\n",
       "              </progress>\n",
       "\n",
       "    "
      ],
      "text/plain": [
       "<IPython.core.display.HTML object>"
      ]
     },
     "metadata": {},
     "output_type": "display_data"
    },
    {
     "name": "stdout",
     "output_type": "stream",
     "text": [
      "*** Feature extraction started ***\n",
      "60\n"
     ]
    },
    {
     "data": {
      "text/html": [
       "\n",
       "              <p>\n",
       "                  Progress: 100% Complete\n",
       "              <p/>            \n",
       "              <progress\n",
       "                  value='60'\n",
       "                  max='60',\n",
       "                  style='width: 25%',\n",
       "              >\n",
       "                  60\n",
       "              </progress>\n",
       "\n",
       "    "
      ],
      "text/plain": [
       "<IPython.core.display.HTML object>"
      ]
     },
     "metadata": {},
     "output_type": "display_data"
    },
    {
     "name": "stdout",
     "output_type": "stream",
     "text": [
      "*** Feature extraction started ***\n",
      "60\n"
     ]
    },
    {
     "data": {
      "text/html": [
       "\n",
       "              <p>\n",
       "                  Progress: 100% Complete\n",
       "              <p/>            \n",
       "              <progress\n",
       "                  value='60'\n",
       "                  max='60',\n",
       "                  style='width: 25%',\n",
       "              >\n",
       "                  60\n",
       "              </progress>\n",
       "\n",
       "    "
      ],
      "text/plain": [
       "<IPython.core.display.HTML object>"
      ]
     },
     "metadata": {},
     "output_type": "display_data"
    },
    {
     "name": "stdout",
     "output_type": "stream",
     "text": [
      "*** Feature extraction started ***\n",
      "60\n"
     ]
    },
    {
     "data": {
      "text/html": [
       "\n",
       "              <p>\n",
       "                  Progress: 100% Complete\n",
       "              <p/>            \n",
       "              <progress\n",
       "                  value='60'\n",
       "                  max='60',\n",
       "                  style='width: 25%',\n",
       "              >\n",
       "                  60\n",
       "              </progress>\n",
       "\n",
       "    "
      ],
      "text/plain": [
       "<IPython.core.display.HTML object>"
      ]
     },
     "metadata": {},
     "output_type": "display_data"
    },
    {
     "name": "stdout",
     "output_type": "stream",
     "text": [
      "*** Feature extraction started ***\n",
      "60\n"
     ]
    },
    {
     "data": {
      "text/html": [
       "\n",
       "              <p>\n",
       "                  Progress: 100% Complete\n",
       "              <p/>            \n",
       "              <progress\n",
       "                  value='60'\n",
       "                  max='60',\n",
       "                  style='width: 25%',\n",
       "              >\n",
       "                  60\n",
       "              </progress>\n",
       "\n",
       "    "
      ],
      "text/plain": [
       "<IPython.core.display.HTML object>"
      ]
     },
     "metadata": {},
     "output_type": "display_data"
    },
    {
     "name": "stdout",
     "output_type": "stream",
     "text": [
      "*** Feature extraction started ***\n",
      "60\n"
     ]
    },
    {
     "data": {
      "text/html": [
       "\n",
       "              <p>\n",
       "                  Progress: 100% Complete\n",
       "              <p/>            \n",
       "              <progress\n",
       "                  value='60'\n",
       "                  max='60',\n",
       "                  style='width: 25%',\n",
       "              >\n",
       "                  60\n",
       "              </progress>\n",
       "\n",
       "    "
      ],
      "text/plain": [
       "<IPython.core.display.HTML object>"
      ]
     },
     "metadata": {},
     "output_type": "display_data"
    },
    {
     "name": "stdout",
     "output_type": "stream",
     "text": [
      "*** Feature extraction started ***\n",
      "60\n"
     ]
    },
    {
     "data": {
      "text/html": [
       "\n",
       "              <p>\n",
       "                  Progress: 100% Complete\n",
       "              <p/>            \n",
       "              <progress\n",
       "                  value='60'\n",
       "                  max='60',\n",
       "                  style='width: 25%',\n",
       "              >\n",
       "                  60\n",
       "              </progress>\n",
       "\n",
       "    "
      ],
      "text/plain": [
       "<IPython.core.display.HTML object>"
      ]
     },
     "metadata": {},
     "output_type": "display_data"
    },
    {
     "name": "stdout",
     "output_type": "stream",
     "text": [
      "*** Feature extraction started ***\n",
      "60\n"
     ]
    },
    {
     "data": {
      "text/html": [
       "\n",
       "              <p>\n",
       "                  Progress: 100% Complete\n",
       "              <p/>            \n",
       "              <progress\n",
       "                  value='60'\n",
       "                  max='60',\n",
       "                  style='width: 25%',\n",
       "              >\n",
       "                  60\n",
       "              </progress>\n",
       "\n",
       "    "
      ],
      "text/plain": [
       "<IPython.core.display.HTML object>"
      ]
     },
     "metadata": {},
     "output_type": "display_data"
    },
    {
     "name": "stdout",
     "output_type": "stream",
     "text": [
      "*** Feature extraction started ***\n",
      "60\n"
     ]
    },
    {
     "data": {
      "text/html": [
       "\n",
       "              <p>\n",
       "                  Progress: 100% Complete\n",
       "              <p/>            \n",
       "              <progress\n",
       "                  value='60'\n",
       "                  max='60',\n",
       "                  style='width: 25%',\n",
       "              >\n",
       "                  60\n",
       "              </progress>\n",
       "\n",
       "    "
      ],
      "text/plain": [
       "<IPython.core.display.HTML object>"
      ]
     },
     "metadata": {},
     "output_type": "display_data"
    },
    {
     "name": "stdout",
     "output_type": "stream",
     "text": [
      "*** Feature extraction started ***\n",
      "60\n"
     ]
    },
    {
     "data": {
      "text/html": [
       "\n",
       "              <p>\n",
       "                  Progress: 100% Complete\n",
       "              <p/>            \n",
       "              <progress\n",
       "                  value='60'\n",
       "                  max='60',\n",
       "                  style='width: 25%',\n",
       "              >\n",
       "                  60\n",
       "              </progress>\n",
       "\n",
       "    "
      ],
      "text/plain": [
       "<IPython.core.display.HTML object>"
      ]
     },
     "metadata": {},
     "output_type": "display_data"
    },
    {
     "name": "stdout",
     "output_type": "stream",
     "text": [
      "*** Feature extraction started ***\n",
      "60\n"
     ]
    },
    {
     "data": {
      "text/html": [
       "\n",
       "              <p>\n",
       "                  Progress: 100% Complete\n",
       "              <p/>            \n",
       "              <progress\n",
       "                  value='60'\n",
       "                  max='60',\n",
       "                  style='width: 25%',\n",
       "              >\n",
       "                  60\n",
       "              </progress>\n",
       "\n",
       "    "
      ],
      "text/plain": [
       "<IPython.core.display.HTML object>"
      ]
     },
     "metadata": {},
     "output_type": "display_data"
    }
   ],
   "source": [
    "di = {}\n",
    "for file in n95['Filename']:\n",
    "    result = getTSfeatures(\"SpiroMask-July2021/SmartMaskData/FVC/Cloth/\"+file)\n",
    "    di[file] = result"
   ]
  },
  {
   "cell_type": "code",
   "execution_count": 5,
   "metadata": {},
   "outputs": [
    {
     "data": {
      "text/plain": [
       "390"
      ]
     },
     "execution_count": 5,
     "metadata": {},
     "output_type": "execute_result"
    }
   ],
   "source": [
    "len(di[file])"
   ]
  },
  {
   "cell_type": "code",
   "execution_count": 8,
   "metadata": {},
   "outputs": [
    {
     "name": "stdout",
     "output_type": "stream",
     "text": [
      "KEY1 =  spectral\n",
      "KEY2 = FFT mean coefficient\n",
      "\t\tNumber of features =  nfreq\n",
      "KEY2 = Fundamental frequency\n",
      "\t\tNumber of features =  1\n",
      "KEY2 = Human range energy\n",
      "\t\tNumber of features =  1\n",
      "KEY2 = LPCC\n",
      "\t\tNumber of features =  n_coeff\n",
      "KEY2 = MFCC\n",
      "\t\tNumber of features =  num_ceps\n",
      "KEY2 = Max power spectrum\n",
      "\t\tNumber of features =  1\n",
      "KEY2 = Maximum frequency\n",
      "\t\tNumber of features =  1\n",
      "KEY2 = Median frequency\n",
      "\t\tNumber of features =  1\n",
      "KEY2 = Power bandwidth\n",
      "\t\tNumber of features =  1\n",
      "KEY2 = Spectral centroid\n",
      "\t\tNumber of features =  1\n",
      "KEY2 = Spectral decrease\n",
      "\t\tNumber of features =  1\n",
      "KEY2 = Spectral distance\n",
      "\t\tNumber of features =  1\n",
      "KEY2 = Spectral entropy\n",
      "\t\tNumber of features =  1\n",
      "KEY2 = Spectral kurtosis\n",
      "\t\tNumber of features =  1\n",
      "KEY2 = Spectral positive turning points\n",
      "\t\tNumber of features =  1\n",
      "KEY2 = Spectral roll-off\n",
      "\t\tNumber of features =  1\n",
      "KEY2 = Spectral roll-on\n",
      "\t\tNumber of features =  1\n",
      "KEY2 = Spectral skewness\n",
      "\t\tNumber of features =  1\n",
      "KEY2 = Spectral slope\n",
      "\t\tNumber of features =  1\n",
      "KEY2 = Spectral spread\n",
      "\t\tNumber of features =  1\n",
      "KEY2 = Spectral variation\n",
      "\t\tNumber of features =  1\n",
      "KEY2 = Wavelet absolute mean\n",
      "\t\tNumber of features =  widths\n",
      "KEY2 = Wavelet energy\n",
      "\t\tNumber of features =  widths\n",
      "KEY2 = Wavelet entropy\n",
      "\t\tNumber of features =  1\n",
      "KEY2 = Wavelet standard deviation\n",
      "\t\tNumber of features =  widths\n",
      "KEY2 = Wavelet variance\n",
      "\t\tNumber of features =  widths\n",
      "KEY1 =  statistical\n",
      "KEY2 = ECDF\n",
      "\t\tNumber of features =  d\n",
      "KEY2 = ECDF Percentile\n",
      "\t\tNumber of features =  percentile\n",
      "KEY2 = ECDF Percentile Count\n",
      "\t\tNumber of features =  percentile\n",
      "KEY2 = Histogram\n",
      "\t\tNumber of features =  nbins\n",
      "KEY2 = Interquartile range\n",
      "\t\tNumber of features =  1\n",
      "KEY2 = Kurtosis\n",
      "\t\tNumber of features =  1\n",
      "KEY2 = Max\n",
      "\t\tNumber of features =  1\n",
      "KEY2 = Mean\n",
      "\t\tNumber of features =  1\n",
      "KEY2 = Mean absolute deviation\n",
      "\t\tNumber of features =  1\n",
      "KEY2 = Median\n",
      "\t\tNumber of features =  1\n",
      "KEY2 = Median absolute deviation\n",
      "\t\tNumber of features =  1\n",
      "KEY2 = Min\n",
      "\t\tNumber of features =  1\n",
      "KEY2 = Root mean square\n",
      "\t\tNumber of features =  1\n",
      "KEY2 = Skewness\n",
      "\t\tNumber of features =  1\n",
      "KEY2 = Standard deviation\n",
      "\t\tNumber of features =  1\n",
      "KEY2 = Variance\n",
      "\t\tNumber of features =  1\n",
      "KEY1 =  temporal\n",
      "KEY2 = Absolute energy\n",
      "\t\tNumber of features =  1\n",
      "KEY2 = Area under the curve\n",
      "\t\tNumber of features =  1\n",
      "KEY2 = Autocorrelation\n",
      "\t\tNumber of features =  1\n",
      "KEY2 = Centroid\n",
      "\t\tNumber of features =  1\n",
      "KEY2 = Entropy\n",
      "\t\tNumber of features =  1\n",
      "KEY2 = Mean absolute diff\n",
      "\t\tNumber of features =  1\n",
      "KEY2 = Mean diff\n",
      "\t\tNumber of features =  1\n",
      "KEY2 = Median absolute diff\n",
      "\t\tNumber of features =  1\n",
      "KEY2 = Median diff\n",
      "\t\tNumber of features =  1\n",
      "KEY2 = Negative turning points\n",
      "\t\tNumber of features =  1\n",
      "KEY2 = Neighbourhood peaks\n",
      "\t\tNumber of features =  1\n",
      "KEY2 = Peak to peak distance\n",
      "\t\tNumber of features =  1\n",
      "KEY2 = Positive turning points\n",
      "\t\tNumber of features =  1\n",
      "KEY2 = Signal distance\n",
      "\t\tNumber of features =  1\n",
      "KEY2 = Slope\n",
      "\t\tNumber of features =  1\n",
      "KEY2 = Sum absolute diff\n",
      "\t\tNumber of features =  1\n",
      "KEY2 = Total energy\n",
      "\t\tNumber of features =  1\n",
      "KEY2 = Zero crossing rate\n",
      "\t\tNumber of features =  1\n"
     ]
    }
   ],
   "source": [
    "cfg = tsfel.get_features_by_domain()\n",
    "count=0;\n",
    "countZ=0\n",
    "for key1 in cfg:\n",
    "    if key1 == 'statistical'\n",
    "    #print(\"KEY1 = \",key1)\n",
    "        for key2 in cfg[key1]:\n",
    "            print(\"KEY2 = \"+key2)\n",
    "            count+=1\n",
    "            print(\"\\t\\tNumber of features = \",cfg[key1][key2]['n_features'])\n",
    "            if type(cfg[key1][key2]['n_features']) == int:\n",
    "                countZ+=1\n",
    "\n",
    "            \n",
    "           \n",
    "           \n",
    "            \n",
    "    \n",
    "    \n",
    "   #print(key+\" features = {}\".format(len(cfg[key].keys())))\n",
    "    "
   ]
  },
  {
   "cell_type": "code",
   "execution_count": 63,
   "metadata": {},
   "outputs": [
    {
     "data": {
      "text/plain": [
       "49"
      ]
     },
     "execution_count": 63,
     "metadata": {},
     "output_type": "execute_result"
    }
   ],
   "source": [
    "countZ"
   ]
  },
  {
   "cell_type": "code",
   "execution_count": 6,
   "metadata": {},
   "outputs": [],
   "source": [
    "with open('ts-fel-cloth.pickle', 'wb') as handle:\n",
    "    pickle.dump(di, handle, protocol=pickle.HIGHEST_PROTOCOL)"
   ]
  },
  {
   "cell_type": "code",
   "execution_count": null,
   "metadata": {},
   "outputs": [],
   "source": []
  }
 ],
 "metadata": {
  "hide_input": false,
  "kernelspec": {
   "display_name": "Python 3",
   "language": "python",
   "name": "python3"
  },
  "language_info": {
   "codemirror_mode": {
    "name": "ipython",
    "version": 3
   },
   "file_extension": ".py",
   "mimetype": "text/x-python",
   "name": "python",
   "nbconvert_exporter": "python",
   "pygments_lexer": "ipython3",
   "version": "3.6.5"
  }
 },
 "nbformat": 4,
 "nbformat_minor": 2
}
