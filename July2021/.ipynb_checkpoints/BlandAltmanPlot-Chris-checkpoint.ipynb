{
 "cells": [
  {
   "cell_type": "markdown",
   "metadata": {
    "id": "J5EfrlwHIXB8"
   },
   "source": [
    "Import libraries"
   ]
  },
  {
   "cell_type": "code",
   "execution_count": 1,
   "metadata": {
    "id": "FfUBYfo3AIzF"
   },
   "outputs": [],
   "source": [
    "import pandas as pd\n",
    "import numpy as np\n",
    "from math import sqrt \n",
    "import matplotlib\n",
    "import matplotlib.pyplot as plt"
   ]
  },
  {
   "cell_type": "markdown",
   "metadata": {
    "id": "jkM531uQDGMl"
   },
   "source": [
    "Latexify Code"
   ]
  },
  {
   "cell_type": "code",
   "execution_count": 2,
   "metadata": {
    "id": "MrsYlSVGC4CI"
   },
   "outputs": [],
   "source": [
    "# Original Author: Prof. Nipun Batra\n",
    "# nipunbatra.github.io\n",
    "\n",
    "SPINE_COLOR = 'gray'\n",
    "def latexify(fig_width=None, fig_height=None, columns=1):\n",
    "  \"\"\"Set up matplotlib's RC params for LaTeX plotting.\n",
    "  Call this before plotting a figure.\n",
    "  Parameters\n",
    "  ----------\n",
    "  fig_width : float, optional, inches\n",
    "  fig_height : float,  optional, inches\n",
    "  columns : {1, 2}\n",
    "  \"\"\"\n",
    "\n",
    "  # code adapted from http://www.scipy.org/Cookbook/Matplotlib/LaTeX_Examples\n",
    "\n",
    "  # Width and max height in inches for IEEE journals taken from\n",
    "  # computer.org/cms/Computer.org/Journal%20templates/transactions_art_guide.pdf\n",
    "\n",
    "  assert(columns in [1,2])\n",
    "\n",
    "  if fig_width is None:\n",
    "    fig_width = 3.39 if columns==1 else 6.9 # width in inches\n",
    "\n",
    "  if fig_height is None:\n",
    "    golden_mean = (sqrt(5)-1.0)/2.0    # Aesthetic ratio\n",
    "    fig_height = fig_width*golden_mean # height in inches\n",
    "\n",
    "  MAX_HEIGHT_INCHES = 8.0\n",
    "  if fig_height > MAX_HEIGHT_INCHES:\n",
    "    print(\"WARNING: fig_height too large:\" + fig_height + \n",
    "          \"so will reduce to\" + MAX_HEIGHT_INCHES + \"inches.\")\n",
    "    fig_height = MAX_HEIGHT_INCHES\n",
    "\n",
    "  params = {'backend': 'ps',\n",
    "            'text.latex.preamble': ['\\\\usepackage{gensymb}'],\n",
    "            'axes.labelsize': 8, # fontsize for x and y labels (was 10)\n",
    "            'axes.titlesize': 8,\n",
    "            'font.size': 8, # was 10\n",
    "            'legend.fontsize': 8, # was 10\n",
    "            'xtick.labelsize': 8,\n",
    "            'ytick.labelsize': 8,\n",
    "            'text.usetex': False,\n",
    "            'figure.figsize': [fig_width,fig_height],\n",
    "            'font.family': 'serif'\n",
    "  }\n",
    "\n",
    "  matplotlib.rcParams.update(params)\n",
    "\n",
    "\n",
    "def format_axes(ax):\n",
    "  for spine in ['top', 'right']:\n",
    "    ax.spines[spine].set_visible(False)\n",
    "\n",
    "  for spine in ['left', 'bottom']:\n",
    "    ax.spines[spine].set_color(SPINE_COLOR)\n",
    "    ax.spines[spine].set_linewidth(0.5)\n",
    "\n",
    "  ax.xaxis.set_ticks_position('bottom')\n",
    "  ax.yaxis.set_ticks_position('left')\n",
    "\n",
    "  for axis in [ax.xaxis, ax.yaxis]:\n",
    "    axis.set_tick_params(direction='out', color=SPINE_COLOR)\n",
    "\n",
    "  return ax"
   ]
  },
  {
   "cell_type": "markdown",
   "metadata": {
    "id": "xAOs4Go1Ihhf"
   },
   "source": [
    "Function Definition"
   ]
  },
  {
   "cell_type": "code",
   "execution_count": 2,
   "metadata": {
    "id": "zBGEOyfm4c8d"
   },
   "outputs": [],
   "source": [
    "def bland_altman(csv_file_paths:list, column_names:list = ['x', 'y'], log_transform:bool = False, save_fig:str = None):\n",
    "    \n",
    "  \"\"\"\n",
    "  Function to create a Bland-Altman plot \n",
    "\n",
    "  Args:\n",
    "    csv_file_paths: list of str\n",
    "      File paths of the csv files containing the data. Each csv file should\n",
    "      contain 2 columns - one for each method.\n",
    "\n",
    "    column_names: list of str, default: ['x', 'y']\n",
    "      Names to be used for the columns in the csv files. The first column is x\n",
    "      and second column is y by default.\n",
    "\n",
    "    log_transform: bool, default: False\n",
    "      Whether to use log transformation (base 2) of the measurements before the \n",
    "      analysis \n",
    "\n",
    "    save_fig: str, default: None\n",
    "      path to save image in, does not save if None\n",
    "\n",
    "  Returns:\n",
    "    None\n",
    "  \"\"\"\n",
    "    fig, ax = plt.subplots()\n",
    "    for k, path in enumerate(csv_file_paths):\n",
    "        data = pd.read_csv(path, header=0, names=column_names)\n",
    "\n",
    "        # use log transformation on data if log_transform is True\n",
    "        if log_transform:\n",
    "          data['x'] = np.log2(data['x'])\n",
    "          data['y'] = np.log2(data['y'])\n",
    "\n",
    "        averages = (data['x'] + data['y'])/2\n",
    "        differences = data['x'] - data['y']\n",
    "\n",
    "        # add the Bland-Altman plot to the figure\n",
    "        ax.scatter(x=averages, y=differences, label=path.replace('.csv', ''), \n",
    "                   color='C'+str(k))\n",
    "\n",
    "        # add mean and +/- 1.96*SD lines only for the first file\n",
    "        if k == 0:\n",
    "          average_difference = differences.mean()\n",
    "          sd_difference = differences.std()\n",
    "\n",
    "          # add mean of the differences to the figure\n",
    "          ax.axhline(y=average_difference, xmin=averages.min(), xmax=averages.max(),\n",
    "                    label='mean', color='k', alpha=0.8)\n",
    "\n",
    "          # add mean + 1.96*SD of the differences to the figure\n",
    "          ax.axhline(y=average_difference + 1.96*sd_difference, xmin=averages.min(), \n",
    "                    xmax=averages.max(), linestyle='dashed',\n",
    "                    label='+1.96SD', color='k', alpha=0.8)\n",
    "\n",
    "          # add mean - 1.96*SD of the differences to the figure\n",
    "          ax.axhline(y=average_difference - 1.96*sd_difference, xmin=averages.min(), \n",
    "                    xmax=averages.max(), linestyle=':',\n",
    "                    label='-1.96SD', color='k', alpha=0.8)\n",
    "  \n",
    "      # update titles, set legend, show, save\n",
    "    ax.set_title('Bland-Altman Plot')\n",
    "    ax.set_xlabel('Average of the 2 methods')\n",
    "    ax.set_ylabel('Difference between the 2 methods')\n",
    "    #format_axes(ax)\n",
    "    ax.legend(loc='upper center', ncol=2)\n",
    "    plt.tight_layout()\n",
    "    if save_fig is None:\n",
    "    plt.show()\n",
    "    else:\n",
    "    plt.savefig(save_fig)\n"
   ]
  },
  {
   "cell_type": "markdown",
   "metadata": {
    "id": "ufE4jyqDIkvG"
   },
   "source": [
    "Test on random data"
   ]
  },
  {
   "cell_type": "code",
   "execution_count": 4,
   "metadata": {
    "colab": {
     "base_uri": "https://localhost:8080/",
     "height": 321
    },
    "id": "pb1GDwkOIK69",
    "outputId": "482406af-b620-4999-f1fd-64e3584c3eba"
   },
   "outputs": [
    {
     "data": {
      "image/png": "[encoded data removed]",
      "text/plain": [
       "<Figure size 432x288 with 1 Axes>"
      ]
     },
     "metadata": {},
     "output_type": "display_data"
    }
   ],
   "source": [
    "'''\n",
    "for i in range(2):\n",
    "  x = np.sort(np.random.exponential(size=50))\n",
    "  y = np.sort(np.random.exponential(size=50))\n",
    "  pd.DataFrame({'x':x, 'y':y}).to_csv('exponential_%s.csv' %str(i), index=False)\n",
    "'''\n",
    "\n",
    "#latexify(columns=2)\n",
    "# pass only one file name in the list if you only \n",
    "# want to plot one file in each figure\n",
    "bland_altman(['result-FVC-Cloth-Healthy.csv', 'result-FVC-Cloth-Not-Healthy.csv'], log_transform=False) "
   ]
  },
  {
   "cell_type": "code",
   "execution_count": 5,
   "metadata": {
    "colab": {
     "base_uri": "https://localhost:8080/",
     "height": 321
    },
    "id": "2Y0x2C9rNOmj",
    "outputId": "1eded7c2-458f-47a2-c480-5d94954c47e9"
   },
   "outputs": [
    {
     "data": {
      "image/png": "[encoded data removed]",
      "text/plain": [
       "<Figure size 496.8x307.039 with 1 Axes>"
      ]
     },
     "metadata": {
      "needs_background": "light"
     },
     "output_type": "display_data"
    }
   ],
   "source": [
    "# won't plot points corresponding to negative values due to taking log\n",
    "bland_altman(['exponential_0.csv', 'exponential_1.csv'], log_transform=True, save_fig='BlandAltman_log.png') "
   ]
  }
 ],
 "metadata": {
  "colab": {
   "collapsed_sections": [],
   "name": "BlandAltmanPlot.ipynb",
   "provenance": []
  },
  "hide_input": false,
  "interpreter": {
   "hash": "31f2aee4e71d21fbe5cf8b01ff0e069b9275f58929596ceb00d14d90e3e16cd6"
  },
  "kernelspec": {
   "display_name": "Python 3",
   "language": "python",
   "name": "python3"
  },
  "language_info": {
   "codemirror_mode": {
    "name": "ipython",
    "version": 3
   },
   "file_extension": ".py",
   "mimetype": "text/x-python",
   "name": "python",
   "nbconvert_exporter": "python",
   "pygments_lexer": "ipython3",
   "version": "3.6.5"
  }
 },
 "nbformat": 4,
 "nbformat_minor": 2
}
