{
 "cells": [
  {
   "cell_type": "code",
   "execution_count": 17,
   "metadata": {},
   "outputs": [],
   "source": [
    "import pandas as pd\n",
    "import numpy as np\n",
    "import tsfel\n",
    "import librosa\n",
    "import speechpy\n",
    "import pickle"
   ]
  },
  {
   "cell_type": "code",
   "execution_count": 2,
   "metadata": {},
   "outputs": [
    {
     "name": "stdout",
     "output_type": "stream",
     "text": [
      "Total Data Points =  15\n"
     ]
    },
    {
     "data": {
      "text/html": [
       "<div>\n",
       "<style scoped>\n",
       "    .dataframe tbody tr th:only-of-type {\n",
       "        vertical-align: middle;\n",
       "    }\n",
       "\n",
       "    .dataframe tbody tr th {\n",
       "        vertical-align: top;\n",
       "    }\n",
       "\n",
       "    .dataframe thead th {\n",
       "        text-align: right;\n",
       "    }\n",
       "</style>\n",
       "<table border=\"1\" class=\"dataframe\">\n",
       "  <thead>\n",
       "    <tr style=\"text-align: right;\">\n",
       "      <th></th>\n",
       "      <th>Unnamed: 0</th>\n",
       "      <th>Unnamed: 0.1</th>\n",
       "      <th>Filename</th>\n",
       "      <th>Name</th>\n",
       "      <th>rPEF</th>\n",
       "      <th>rFEV1</th>\n",
       "      <th>rFVC</th>\n",
       "      <th>rRatio</th>\n",
       "      <th>gPEF</th>\n",
       "      <th>gFEV1</th>\n",
       "      <th>gFVC</th>\n",
       "      <th>gRatio</th>\n",
       "    </tr>\n",
       "  </thead>\n",
       "  <tbody>\n",
       "    <tr>\n",
       "      <th>0</th>\n",
       "      <td>0</td>\n",
       "      <td>0.0</td>\n",
       "      <td>Maithili01.FVC_N95.2b66lj8n.wav</td>\n",
       "      <td>Maithili01</td>\n",
       "      <td>2.84</td>\n",
       "      <td>0.19</td>\n",
       "      <td>3.56</td>\n",
       "      <td>5.337079</td>\n",
       "      <td>4.39</td>\n",
       "      <td>2.12</td>\n",
       "      <td>2.86</td>\n",
       "      <td>74.125874</td>\n",
       "    </tr>\n",
       "    <tr>\n",
       "      <th>1</th>\n",
       "      <td>1</td>\n",
       "      <td>1.0</td>\n",
       "      <td>Rahul01.FVC_C.2b8ki4jm.wav</td>\n",
       "      <td>Rahul01</td>\n",
       "      <td>1.99</td>\n",
       "      <td>0.10</td>\n",
       "      <td>1.74</td>\n",
       "      <td>5.747126</td>\n",
       "      <td>7.00</td>\n",
       "      <td>3.43</td>\n",
       "      <td>3.43</td>\n",
       "      <td>100.000000</td>\n",
       "    </tr>\n",
       "    <tr>\n",
       "      <th>2</th>\n",
       "      <td>2</td>\n",
       "      <td>2.0</td>\n",
       "      <td>Shikha.FVC_N95.2b6bnd0l.wav</td>\n",
       "      <td>Shikha</td>\n",
       "      <td>3.22</td>\n",
       "      <td>0.16</td>\n",
       "      <td>4.85</td>\n",
       "      <td>3.298969</td>\n",
       "      <td>4.50</td>\n",
       "      <td>1.92</td>\n",
       "      <td>2.07</td>\n",
       "      <td>92.753623</td>\n",
       "    </tr>\n",
       "    <tr>\n",
       "      <th>3</th>\n",
       "      <td>3</td>\n",
       "      <td>3.0</td>\n",
       "      <td>Vignesh.FVC_N95.2bb8mr8l.wav</td>\n",
       "      <td>Vignesh</td>\n",
       "      <td>2.44</td>\n",
       "      <td>0.16</td>\n",
       "      <td>3.37</td>\n",
       "      <td>4.747774</td>\n",
       "      <td>7.12</td>\n",
       "      <td>3.16</td>\n",
       "      <td>3.28</td>\n",
       "      <td>96.341463</td>\n",
       "    </tr>\n",
       "    <tr>\n",
       "      <th>4</th>\n",
       "      <td>4</td>\n",
       "      <td>4.0</td>\n",
       "      <td>Yash.FVC_N95.2b8n0616.wav</td>\n",
       "      <td>Yash</td>\n",
       "      <td>1.98</td>\n",
       "      <td>0.12</td>\n",
       "      <td>2.02</td>\n",
       "      <td>5.940594</td>\n",
       "      <td>7.81</td>\n",
       "      <td>2.96</td>\n",
       "      <td>2.96</td>\n",
       "      <td>100.000000</td>\n",
       "    </tr>\n",
       "    <tr>\n",
       "      <th>5</th>\n",
       "      <td>5</td>\n",
       "      <td>5.0</td>\n",
       "      <td>Sandra.FVC_N95.2bda6hnu.wav</td>\n",
       "      <td>Sandra</td>\n",
       "      <td>2.35</td>\n",
       "      <td>0.09</td>\n",
       "      <td>2.46</td>\n",
       "      <td>3.658537</td>\n",
       "      <td>4.07</td>\n",
       "      <td>2.59</td>\n",
       "      <td>2.67</td>\n",
       "      <td>97.003745</td>\n",
       "    </tr>\n",
       "    <tr>\n",
       "      <th>6</th>\n",
       "      <td>6</td>\n",
       "      <td>6.0</td>\n",
       "      <td>Hatim.FVC_N95.2be0uvo6.wav</td>\n",
       "      <td>Hatim</td>\n",
       "      <td>2.55</td>\n",
       "      <td>0.06</td>\n",
       "      <td>2.74</td>\n",
       "      <td>2.189781</td>\n",
       "      <td>2.52</td>\n",
       "      <td>0.61</td>\n",
       "      <td>2.73</td>\n",
       "      <td>22.344322</td>\n",
       "    </tr>\n",
       "    <tr>\n",
       "      <th>7</th>\n",
       "      <td>7</td>\n",
       "      <td>7.0</td>\n",
       "      <td>Maithili02.FVC_N95.2b66msvi.wav</td>\n",
       "      <td>Maithili02</td>\n",
       "      <td>2.41</td>\n",
       "      <td>0.15</td>\n",
       "      <td>3.45</td>\n",
       "      <td>4.347826</td>\n",
       "      <td>4.39</td>\n",
       "      <td>2.12</td>\n",
       "      <td>2.86</td>\n",
       "      <td>74.125874</td>\n",
       "    </tr>\n",
       "    <tr>\n",
       "      <th>8</th>\n",
       "      <td>8</td>\n",
       "      <td>8.0</td>\n",
       "      <td>Rahul02.FVC_N95.2b8kj7lr.wav</td>\n",
       "      <td>Rahul02</td>\n",
       "      <td>0.77</td>\n",
       "      <td>0.04</td>\n",
       "      <td>0.95</td>\n",
       "      <td>4.210526</td>\n",
       "      <td>7.00</td>\n",
       "      <td>3.43</td>\n",
       "      <td>3.43</td>\n",
       "      <td>100.000000</td>\n",
       "    </tr>\n",
       "    <tr>\n",
       "      <th>9</th>\n",
       "      <td>9</td>\n",
       "      <td>NaN</td>\n",
       "      <td>Kaushal01.FVC_N95.2bldi9ts.wav</td>\n",
       "      <td>Kaushal01</td>\n",
       "      <td>1.61</td>\n",
       "      <td>0.04</td>\n",
       "      <td>1.69</td>\n",
       "      <td>2.366864</td>\n",
       "      <td>8.42</td>\n",
       "      <td>3.36</td>\n",
       "      <td>3.60</td>\n",
       "      <td>93.333333</td>\n",
       "    </tr>\n",
       "    <tr>\n",
       "      <th>10</th>\n",
       "      <td>10</td>\n",
       "      <td>NaN</td>\n",
       "      <td>Kaushal02.FVC_N95.2bldi9ts.wav</td>\n",
       "      <td>Kaushal02</td>\n",
       "      <td>2.00</td>\n",
       "      <td>0.09</td>\n",
       "      <td>4.48</td>\n",
       "      <td>2.008929</td>\n",
       "      <td>8.42</td>\n",
       "      <td>3.36</td>\n",
       "      <td>3.60</td>\n",
       "      <td>93.333333</td>\n",
       "    </tr>\n",
       "    <tr>\n",
       "      <th>11</th>\n",
       "      <td>11</td>\n",
       "      <td>NaN</td>\n",
       "      <td>Alok01.FVC_N95.2blk7k0f.wav</td>\n",
       "      <td>Alok01</td>\n",
       "      <td>2.78</td>\n",
       "      <td>0.35</td>\n",
       "      <td>2.79</td>\n",
       "      <td>12.544803</td>\n",
       "      <td>7.98</td>\n",
       "      <td>3.33</td>\n",
       "      <td>3.76</td>\n",
       "      <td>88.563830</td>\n",
       "    </tr>\n",
       "    <tr>\n",
       "      <th>12</th>\n",
       "      <td>12</td>\n",
       "      <td>NaN</td>\n",
       "      <td>Monika01.FVC_N95.2bllj08r.wav</td>\n",
       "      <td>Monika01</td>\n",
       "      <td>2.15</td>\n",
       "      <td>0.09</td>\n",
       "      <td>3.04</td>\n",
       "      <td>2.960526</td>\n",
       "      <td>6.86</td>\n",
       "      <td>2.78</td>\n",
       "      <td>2.89</td>\n",
       "      <td>96.193772</td>\n",
       "    </tr>\n",
       "    <tr>\n",
       "      <th>13</th>\n",
       "      <td>13</td>\n",
       "      <td>NaN</td>\n",
       "      <td>Monika02.FVC_N95.2bllk1ud.wav</td>\n",
       "      <td>Monika02</td>\n",
       "      <td>2.45</td>\n",
       "      <td>0.17</td>\n",
       "      <td>4.30</td>\n",
       "      <td>3.953488</td>\n",
       "      <td>6.86</td>\n",
       "      <td>2.78</td>\n",
       "      <td>2.89</td>\n",
       "      <td>96.193772</td>\n",
       "    </tr>\n",
       "    <tr>\n",
       "      <th>14</th>\n",
       "      <td>14</td>\n",
       "      <td>NaN</td>\n",
       "      <td>Alok02.FVC_N95.2blk7k0f.wav</td>\n",
       "      <td>Alok02</td>\n",
       "      <td>2.24</td>\n",
       "      <td>0.17</td>\n",
       "      <td>2.33</td>\n",
       "      <td>7.296137</td>\n",
       "      <td>7.98</td>\n",
       "      <td>3.33</td>\n",
       "      <td>3.76</td>\n",
       "      <td>88.563830</td>\n",
       "    </tr>\n",
       "  </tbody>\n",
       "</table>\n",
       "</div>"
      ],
      "text/plain": [
       "    Unnamed: 0  Unnamed: 0.1                         Filename        Name  \\\n",
       "0            0           0.0  Maithili01.FVC_N95.2b66lj8n.wav  Maithili01   \n",
       "1            1           1.0       Rahul01.FVC_C.2b8ki4jm.wav     Rahul01   \n",
       "2            2           2.0      Shikha.FVC_N95.2b6bnd0l.wav      Shikha   \n",
       "3            3           3.0     Vignesh.FVC_N95.2bb8mr8l.wav     Vignesh   \n",
       "4            4           4.0        Yash.FVC_N95.2b8n0616.wav        Yash   \n",
       "5            5           5.0      Sandra.FVC_N95.2bda6hnu.wav      Sandra   \n",
       "6            6           6.0       Hatim.FVC_N95.2be0uvo6.wav       Hatim   \n",
       "7            7           7.0  Maithili02.FVC_N95.2b66msvi.wav  Maithili02   \n",
       "8            8           8.0     Rahul02.FVC_N95.2b8kj7lr.wav     Rahul02   \n",
       "9            9           NaN   Kaushal01.FVC_N95.2bldi9ts.wav   Kaushal01   \n",
       "10          10           NaN   Kaushal02.FVC_N95.2bldi9ts.wav   Kaushal02   \n",
       "11          11           NaN      Alok01.FVC_N95.2blk7k0f.wav      Alok01   \n",
       "12          12           NaN    Monika01.FVC_N95.2bllj08r.wav    Monika01   \n",
       "13          13           NaN    Monika02.FVC_N95.2bllk1ud.wav    Monika02   \n",
       "14          14           NaN      Alok02.FVC_N95.2blk7k0f.wav      Alok02   \n",
       "\n",
       "    rPEF  rFEV1  rFVC     rRatio  gPEF  gFEV1  gFVC      gRatio  \n",
       "0   2.84   0.19  3.56   5.337079  4.39   2.12  2.86   74.125874  \n",
       "1   1.99   0.10  1.74   5.747126  7.00   3.43  3.43  100.000000  \n",
       "2   3.22   0.16  4.85   3.298969  4.50   1.92  2.07   92.753623  \n",
       "3   2.44   0.16  3.37   4.747774  7.12   3.16  3.28   96.341463  \n",
       "4   1.98   0.12  2.02   5.940594  7.81   2.96  2.96  100.000000  \n",
       "5   2.35   0.09  2.46   3.658537  4.07   2.59  2.67   97.003745  \n",
       "6   2.55   0.06  2.74   2.189781  2.52   0.61  2.73   22.344322  \n",
       "7   2.41   0.15  3.45   4.347826  4.39   2.12  2.86   74.125874  \n",
       "8   0.77   0.04  0.95   4.210526  7.00   3.43  3.43  100.000000  \n",
       "9   1.61   0.04  1.69   2.366864  8.42   3.36  3.60   93.333333  \n",
       "10  2.00   0.09  4.48   2.008929  8.42   3.36  3.60   93.333333  \n",
       "11  2.78   0.35  2.79  12.544803  7.98   3.33  3.76   88.563830  \n",
       "12  2.15   0.09  3.04   2.960526  6.86   2.78  2.89   96.193772  \n",
       "13  2.45   0.17  4.30   3.953488  6.86   2.78  2.89   96.193772  \n",
       "14  2.24   0.17  2.33   7.296137  7.98   3.33  3.76   88.563830  "
      ]
     },
     "execution_count": 2,
     "metadata": {},
     "output_type": "execute_result"
    }
   ],
   "source": [
    "#the file where all data is arranged.\n",
    "n95 = pd.read_csv(\"data_FVC_N95.csv\")\n",
    "print(\"Total Data Points = \",len(n95))\n",
    "n95.head(15)"
   ]
  },
  {
   "cell_type": "code",
   "execution_count": 11,
   "metadata": {},
   "outputs": [],
   "source": [
    "def getTSfeatures(filepath):\n",
    "    ys, fs = librosa.load(filepath)\n",
    "    ys = speechpy.processing.preemphasis(ys, cof=0.98)\n",
    "    \n",
    "    cfg = tsfel.get_features_by_domain()\n",
    "    stat_features = np.array(tsfel.time_series_features_extractor(cfg, ys))[0]\n",
    "    return stat_features"
   ]
  },
  {
   "cell_type": "code",
   "execution_count": 12,
   "metadata": {},
   "outputs": [
    {
     "name": "stdout",
     "output_type": "stream",
     "text": [
      "*** Feature extraction started ***\n",
      "60\n"
     ]
    },
    {
     "name": "stderr",
     "output_type": "stream",
     "text": [
      "C:\\ProgramData\\Anaconda3\\lib\\site-packages\\ipykernel_launcher.py:6: UserWarning: Using default sampling frequency set in configuration file.\n",
      "  \n"
     ]
    },
    {
     "data": {
      "text/html": [
       "\n",
       "              <p>\n",
       "                  Progress: 100% Complete\n",
       "              <p/>            \n",
       "              <progress\n",
       "                  value='60'\n",
       "                  max='60',\n",
       "                  style='width: 25%',\n",
       "              >\n",
       "                  60\n",
       "              </progress>\n",
       "\n",
       "    "
      ],
      "text/plain": [
       "<IPython.core.display.HTML object>"
      ]
     },
     "metadata": {},
     "output_type": "display_data"
    },
    {
     "name": "stdout",
     "output_type": "stream",
     "text": [
      "*** Feature extraction started ***\n",
      "60\n"
     ]
    },
    {
     "data": {
      "text/html": [
       "\n",
       "              <p>\n",
       "                  Progress: 100% Complete\n",
       "              <p/>            \n",
       "              <progress\n",
       "                  value='60'\n",
       "                  max='60',\n",
       "                  style='width: 25%',\n",
       "              >\n",
       "                  60\n",
       "              </progress>\n",
       "\n",
       "    "
      ],
      "text/plain": [
       "<IPython.core.display.HTML object>"
      ]
     },
     "metadata": {},
     "output_type": "display_data"
    },
    {
     "name": "stdout",
     "output_type": "stream",
     "text": [
      "*** Feature extraction started ***\n",
      "60\n"
     ]
    },
    {
     "data": {
      "text/html": [
       "\n",
       "              <p>\n",
       "                  Progress: 100% Complete\n",
       "              <p/>            \n",
       "              <progress\n",
       "                  value='60'\n",
       "                  max='60',\n",
       "                  style='width: 25%',\n",
       "              >\n",
       "                  60\n",
       "              </progress>\n",
       "\n",
       "    "
      ],
      "text/plain": [
       "<IPython.core.display.HTML object>"
      ]
     },
     "metadata": {},
     "output_type": "display_data"
    },
    {
     "name": "stdout",
     "output_type": "stream",
     "text": [
      "*** Feature extraction started ***\n",
      "60\n"
     ]
    },
    {
     "data": {
      "text/html": [
       "\n",
       "              <p>\n",
       "                  Progress: 100% Complete\n",
       "              <p/>            \n",
       "              <progress\n",
       "                  value='60'\n",
       "                  max='60',\n",
       "                  style='width: 25%',\n",
       "              >\n",
       "                  60\n",
       "              </progress>\n",
       "\n",
       "    "
      ],
      "text/plain": [
       "<IPython.core.display.HTML object>"
      ]
     },
     "metadata": {},
     "output_type": "display_data"
    },
    {
     "name": "stdout",
     "output_type": "stream",
     "text": [
      "*** Feature extraction started ***\n",
      "60\n"
     ]
    },
    {
     "data": {
      "text/html": [
       "\n",
       "              <p>\n",
       "                  Progress: 100% Complete\n",
       "              <p/>            \n",
       "              <progress\n",
       "                  value='60'\n",
       "                  max='60',\n",
       "                  style='width: 25%',\n",
       "              >\n",
       "                  60\n",
       "              </progress>\n",
       "\n",
       "    "
      ],
      "text/plain": [
       "<IPython.core.display.HTML object>"
      ]
     },
     "metadata": {},
     "output_type": "display_data"
    },
    {
     "name": "stdout",
     "output_type": "stream",
     "text": [
      "*** Feature extraction started ***\n",
      "60\n"
     ]
    },
    {
     "data": {
      "text/html": [
       "\n",
       "              <p>\n",
       "                  Progress: 100% Complete\n",
       "              <p/>            \n",
       "              <progress\n",
       "                  value='60'\n",
       "                  max='60',\n",
       "                  style='width: 25%',\n",
       "              >\n",
       "                  60\n",
       "              </progress>\n",
       "\n",
       "    "
      ],
      "text/plain": [
       "<IPython.core.display.HTML object>"
      ]
     },
     "metadata": {},
     "output_type": "display_data"
    },
    {
     "name": "stdout",
     "output_type": "stream",
     "text": [
      "*** Feature extraction started ***\n",
      "60\n"
     ]
    },
    {
     "data": {
      "text/html": [
       "\n",
       "              <p>\n",
       "                  Progress: 100% Complete\n",
       "              <p/>            \n",
       "              <progress\n",
       "                  value='60'\n",
       "                  max='60',\n",
       "                  style='width: 25%',\n",
       "              >\n",
       "                  60\n",
       "              </progress>\n",
       "\n",
       "    "
      ],
      "text/plain": [
       "<IPython.core.display.HTML object>"
      ]
     },
     "metadata": {},
     "output_type": "display_data"
    },
    {
     "name": "stdout",
     "output_type": "stream",
     "text": [
      "*** Feature extraction started ***\n",
      "60\n"
     ]
    },
    {
     "data": {
      "text/html": [
       "\n",
       "              <p>\n",
       "                  Progress: 100% Complete\n",
       "              <p/>            \n",
       "              <progress\n",
       "                  value='60'\n",
       "                  max='60',\n",
       "                  style='width: 25%',\n",
       "              >\n",
       "                  60\n",
       "              </progress>\n",
       "\n",
       "    "
      ],
      "text/plain": [
       "<IPython.core.display.HTML object>"
      ]
     },
     "metadata": {},
     "output_type": "display_data"
    },
    {
     "name": "stdout",
     "output_type": "stream",
     "text": [
      "*** Feature extraction started ***\n",
      "60\n"
     ]
    },
    {
     "data": {
      "text/html": [
       "\n",
       "              <p>\n",
       "                  Progress: 100% Complete\n",
       "              <p/>            \n",
       "              <progress\n",
       "                  value='60'\n",
       "                  max='60',\n",
       "                  style='width: 25%',\n",
       "              >\n",
       "                  60\n",
       "              </progress>\n",
       "\n",
       "    "
      ],
      "text/plain": [
       "<IPython.core.display.HTML object>"
      ]
     },
     "metadata": {},
     "output_type": "display_data"
    },
    {
     "name": "stdout",
     "output_type": "stream",
     "text": [
      "*** Feature extraction started ***\n",
      "60\n"
     ]
    },
    {
     "data": {
      "text/html": [
       "\n",
       "              <p>\n",
       "                  Progress: 100% Complete\n",
       "              <p/>            \n",
       "              <progress\n",
       "                  value='60'\n",
       "                  max='60',\n",
       "                  style='width: 25%',\n",
       "              >\n",
       "                  60\n",
       "              </progress>\n",
       "\n",
       "    "
      ],
      "text/plain": [
       "<IPython.core.display.HTML object>"
      ]
     },
     "metadata": {},
     "output_type": "display_data"
    },
    {
     "name": "stdout",
     "output_type": "stream",
     "text": [
      "*** Feature extraction started ***\n",
      "60\n"
     ]
    },
    {
     "data": {
      "text/html": [
       "\n",
       "              <p>\n",
       "                  Progress: 100% Complete\n",
       "              <p/>            \n",
       "              <progress\n",
       "                  value='60'\n",
       "                  max='60',\n",
       "                  style='width: 25%',\n",
       "              >\n",
       "                  60\n",
       "              </progress>\n",
       "\n",
       "    "
      ],
      "text/plain": [
       "<IPython.core.display.HTML object>"
      ]
     },
     "metadata": {},
     "output_type": "display_data"
    },
    {
     "name": "stdout",
     "output_type": "stream",
     "text": [
      "*** Feature extraction started ***\n",
      "60\n"
     ]
    },
    {
     "data": {
      "text/html": [
       "\n",
       "              <p>\n",
       "                  Progress: 100% Complete\n",
       "              <p/>            \n",
       "              <progress\n",
       "                  value='60'\n",
       "                  max='60',\n",
       "                  style='width: 25%',\n",
       "              >\n",
       "                  60\n",
       "              </progress>\n",
       "\n",
       "    "
      ],
      "text/plain": [
       "<IPython.core.display.HTML object>"
      ]
     },
     "metadata": {},
     "output_type": "display_data"
    },
    {
     "name": "stdout",
     "output_type": "stream",
     "text": [
      "*** Feature extraction started ***\n",
      "60\n"
     ]
    },
    {
     "data": {
      "text/html": [
       "\n",
       "              <p>\n",
       "                  Progress: 100% Complete\n",
       "              <p/>            \n",
       "              <progress\n",
       "                  value='60'\n",
       "                  max='60',\n",
       "                  style='width: 25%',\n",
       "              >\n",
       "                  60\n",
       "              </progress>\n",
       "\n",
       "    "
      ],
      "text/plain": [
       "<IPython.core.display.HTML object>"
      ]
     },
     "metadata": {},
     "output_type": "display_data"
    },
    {
     "name": "stdout",
     "output_type": "stream",
     "text": [
      "*** Feature extraction started ***\n",
      "60\n"
     ]
    },
    {
     "data": {
      "text/html": [
       "\n",
       "              <p>\n",
       "                  Progress: 100% Complete\n",
       "              <p/>            \n",
       "              <progress\n",
       "                  value='60'\n",
       "                  max='60',\n",
       "                  style='width: 25%',\n",
       "              >\n",
       "                  60\n",
       "              </progress>\n",
       "\n",
       "    "
      ],
      "text/plain": [
       "<IPython.core.display.HTML object>"
      ]
     },
     "metadata": {},
     "output_type": "display_data"
    },
    {
     "name": "stdout",
     "output_type": "stream",
     "text": [
      "*** Feature extraction started ***\n",
      "60\n"
     ]
    },
    {
     "data": {
      "text/html": [
       "\n",
       "              <p>\n",
       "                  Progress: 100% Complete\n",
       "              <p/>            \n",
       "              <progress\n",
       "                  value='60'\n",
       "                  max='60',\n",
       "                  style='width: 25%',\n",
       "              >\n",
       "                  60\n",
       "              </progress>\n",
       "\n",
       "    "
      ],
      "text/plain": [
       "<IPython.core.display.HTML object>"
      ]
     },
     "metadata": {},
     "output_type": "display_data"
    }
   ],
   "source": [
    "di = {}\n",
    "for file in n95['Filename']:\n",
    "    result = getTSfeatures(\"SpiroMask-July2021/SmartMaskData/FVC/N95/\"+file)\n",
    "    di[file] = result"
   ]
  },
  {
   "cell_type": "code",
   "execution_count": 19,
   "metadata": {},
   "outputs": [],
   "source": [
    "with open('ts-fel.pickle', 'wb') as handle:\n",
    "    pickle.dump(di, handle, protocol=pickle.HIGHEST_PROTOCOL)"
   ]
  },
  {
   "cell_type": "code",
   "execution_count": null,
   "metadata": {},
   "outputs": [],
   "source": []
  }
 ],
 "metadata": {
  "hide_input": false,
  "kernelspec": {
   "display_name": "Python 3",
   "language": "python",
   "name": "python3"
  },
  "language_info": {
   "codemirror_mode": {
    "name": "ipython",
    "version": 3
   },
   "file_extension": ".py",
   "mimetype": "text/x-python",
   "name": "python",
   "nbconvert_exporter": "python",
   "pygments_lexer": "ipython3",
   "version": "3.6.5"
  }
 },
 "nbformat": 4,
 "nbformat_minor": 2
}
