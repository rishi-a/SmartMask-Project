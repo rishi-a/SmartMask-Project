{
 "cells": [
  {
   "cell_type": "code",
   "execution_count": 5,
   "metadata": {},
   "outputs": [],
   "source": [
    "import pandas as pd\n",
    "import numpy as np\n",
    "import tsfel\n",
    "import librosa\n",
    "import speechpy\n",
    "import pickle"
   ]
  },
  {
   "cell_type": "code",
   "execution_count": 6,
   "metadata": {},
   "outputs": [
    {
     "name": "stdout",
     "output_type": "stream",
     "text": [
      "Total Data Points =  25\n"
     ]
    },
    {
     "data": {
      "text/html": [
       "<div>\n",
       "<style scoped>\n",
       "    .dataframe tbody tr th:only-of-type {\n",
       "        vertical-align: middle;\n",
       "    }\n",
       "\n",
       "    .dataframe tbody tr th {\n",
       "        vertical-align: top;\n",
       "    }\n",
       "\n",
       "    .dataframe thead th {\n",
       "        text-align: right;\n",
       "    }\n",
       "</style>\n",
       "<table border=\"1\" class=\"dataframe\">\n",
       "  <thead>\n",
       "    <tr style=\"text-align: right;\">\n",
       "      <th></th>\n",
       "      <th>Unnamed: 0</th>\n",
       "      <th>Unnamed: 0.1</th>\n",
       "      <th>Name</th>\n",
       "      <th>Filename</th>\n",
       "      <th>rPEF</th>\n",
       "      <th>rFEV1</th>\n",
       "      <th>rFVC</th>\n",
       "      <th>rRatio</th>\n",
       "      <th>gPEF</th>\n",
       "      <th>gFEV1</th>\n",
       "      <th>gFVC</th>\n",
       "      <th>gRatio</th>\n",
       "    </tr>\n",
       "  </thead>\n",
       "  <tbody>\n",
       "    <tr>\n",
       "      <th>0</th>\n",
       "      <td>0</td>\n",
       "      <td>NaN</td>\n",
       "      <td>Maithili01</td>\n",
       "      <td>Maithili01.FVC_C.2b677eno.wav</td>\n",
       "      <td>1.66</td>\n",
       "      <td>0.08</td>\n",
       "      <td>2.67</td>\n",
       "      <td>2.996255</td>\n",
       "      <td>4.39</td>\n",
       "      <td>2.12</td>\n",
       "      <td>2.86</td>\n",
       "      <td>74.125874</td>\n",
       "    </tr>\n",
       "    <tr>\n",
       "      <th>1</th>\n",
       "      <td>1</td>\n",
       "      <td>NaN</td>\n",
       "      <td>Rahul01</td>\n",
       "      <td>Rahul01.FVC_C.2b8ks79f.wav</td>\n",
       "      <td>1.02</td>\n",
       "      <td>0.03</td>\n",
       "      <td>1.21</td>\n",
       "      <td>2.479339</td>\n",
       "      <td>7.00</td>\n",
       "      <td>3.43</td>\n",
       "      <td>3.43</td>\n",
       "      <td>100.000000</td>\n",
       "    </tr>\n",
       "    <tr>\n",
       "      <th>2</th>\n",
       "      <td>2</td>\n",
       "      <td>NaN</td>\n",
       "      <td>ShikhaD01</td>\n",
       "      <td>ShikhaD01.FVC_C.2b6c0d7k.wav</td>\n",
       "      <td>2.13</td>\n",
       "      <td>0.09</td>\n",
       "      <td>3.27</td>\n",
       "      <td>2.752294</td>\n",
       "      <td>4.50</td>\n",
       "      <td>1.92</td>\n",
       "      <td>2.07</td>\n",
       "      <td>92.753623</td>\n",
       "    </tr>\n",
       "    <tr>\n",
       "      <th>3</th>\n",
       "      <td>3</td>\n",
       "      <td>NaN</td>\n",
       "      <td>Vignesh01</td>\n",
       "      <td>Vignesh01.FVC_C.2bb95nom.wav</td>\n",
       "      <td>3.11</td>\n",
       "      <td>0.11</td>\n",
       "      <td>2.97</td>\n",
       "      <td>3.703704</td>\n",
       "      <td>7.12</td>\n",
       "      <td>3.16</td>\n",
       "      <td>3.28</td>\n",
       "      <td>96.341463</td>\n",
       "    </tr>\n",
       "    <tr>\n",
       "      <th>4</th>\n",
       "      <td>4</td>\n",
       "      <td>NaN</td>\n",
       "      <td>Yash01</td>\n",
       "      <td>Yash01.FVC_C.2b8n937i.wav</td>\n",
       "      <td>1.24</td>\n",
       "      <td>0.10</td>\n",
       "      <td>1.24</td>\n",
       "      <td>8.064516</td>\n",
       "      <td>7.81</td>\n",
       "      <td>2.96</td>\n",
       "      <td>2.96</td>\n",
       "      <td>100.000000</td>\n",
       "    </tr>\n",
       "    <tr>\n",
       "      <th>5</th>\n",
       "      <td>5</td>\n",
       "      <td>NaN</td>\n",
       "      <td>Sandra01</td>\n",
       "      <td>Sandra01.FVC_C.2bdaignt.wav</td>\n",
       "      <td>1.03</td>\n",
       "      <td>0.06</td>\n",
       "      <td>1.04</td>\n",
       "      <td>5.769231</td>\n",
       "      <td>4.07</td>\n",
       "      <td>2.59</td>\n",
       "      <td>2.67</td>\n",
       "      <td>97.003745</td>\n",
       "    </tr>\n",
       "    <tr>\n",
       "      <th>6</th>\n",
       "      <td>6</td>\n",
       "      <td>NaN</td>\n",
       "      <td>Hatim01</td>\n",
       "      <td>Hatim01.FVC_C.2be1a9u6.wav</td>\n",
       "      <td>2.03</td>\n",
       "      <td>0.07</td>\n",
       "      <td>2.40</td>\n",
       "      <td>2.916667</td>\n",
       "      <td>2.52</td>\n",
       "      <td>0.61</td>\n",
       "      <td>2.73</td>\n",
       "      <td>22.344322</td>\n",
       "    </tr>\n",
       "    <tr>\n",
       "      <th>7</th>\n",
       "      <td>7</td>\n",
       "      <td>NaN</td>\n",
       "      <td>Maithili02</td>\n",
       "      <td>Maithili02.FVC_C.2b676jbf.wav</td>\n",
       "      <td>2.08</td>\n",
       "      <td>0.12</td>\n",
       "      <td>2.67</td>\n",
       "      <td>4.494382</td>\n",
       "      <td>4.39</td>\n",
       "      <td>2.12</td>\n",
       "      <td>2.86</td>\n",
       "      <td>74.125874</td>\n",
       "    </tr>\n",
       "    <tr>\n",
       "      <th>8</th>\n",
       "      <td>8</td>\n",
       "      <td>NaN</td>\n",
       "      <td>Kaushal01</td>\n",
       "      <td>Kaushal01.FVC_C.06.LCL.2bldi9ts.wav</td>\n",
       "      <td>2.01</td>\n",
       "      <td>0.08</td>\n",
       "      <td>2.77</td>\n",
       "      <td>2.888087</td>\n",
       "      <td>8.42</td>\n",
       "      <td>3.36</td>\n",
       "      <td>3.60</td>\n",
       "      <td>93.333333</td>\n",
       "    </tr>\n",
       "    <tr>\n",
       "      <th>9</th>\n",
       "      <td>9</td>\n",
       "      <td>NaN</td>\n",
       "      <td>Kaushal02</td>\n",
       "      <td>Kaushal02.FVC_C.06.LCL.2bldi9ts.wav</td>\n",
       "      <td>1.29</td>\n",
       "      <td>0.06</td>\n",
       "      <td>2.60</td>\n",
       "      <td>2.307692</td>\n",
       "      <td>8.42</td>\n",
       "      <td>3.36</td>\n",
       "      <td>3.60</td>\n",
       "      <td>93.333333</td>\n",
       "    </tr>\n",
       "    <tr>\n",
       "      <th>10</th>\n",
       "      <td>10</td>\n",
       "      <td>NaN</td>\n",
       "      <td>Alok01</td>\n",
       "      <td>Alok01.FVC_C.2blkl0aa.wav</td>\n",
       "      <td>1.75</td>\n",
       "      <td>0.14</td>\n",
       "      <td>2.04</td>\n",
       "      <td>6.862745</td>\n",
       "      <td>7.98</td>\n",
       "      <td>3.33</td>\n",
       "      <td>3.76</td>\n",
       "      <td>88.563830</td>\n",
       "    </tr>\n",
       "    <tr>\n",
       "      <th>11</th>\n",
       "      <td>11</td>\n",
       "      <td>NaN</td>\n",
       "      <td>Monika01</td>\n",
       "      <td>Monika01.FVC_C.2blm3kre.wav</td>\n",
       "      <td>2.86</td>\n",
       "      <td>0.28</td>\n",
       "      <td>8.00</td>\n",
       "      <td>3.500000</td>\n",
       "      <td>6.86</td>\n",
       "      <td>2.78</td>\n",
       "      <td>2.89</td>\n",
       "      <td>96.193772</td>\n",
       "    </tr>\n",
       "    <tr>\n",
       "      <th>12</th>\n",
       "      <td>12</td>\n",
       "      <td>NaN</td>\n",
       "      <td>Alok02</td>\n",
       "      <td>Alok02.FVC_C.2blkl0aa.wav</td>\n",
       "      <td>2.50</td>\n",
       "      <td>0.10</td>\n",
       "      <td>3.11</td>\n",
       "      <td>3.215434</td>\n",
       "      <td>7.98</td>\n",
       "      <td>3.33</td>\n",
       "      <td>3.76</td>\n",
       "      <td>88.563830</td>\n",
       "    </tr>\n",
       "    <tr>\n",
       "      <th>13</th>\n",
       "      <td>13</td>\n",
       "      <td>NaN</td>\n",
       "      <td>Rik01</td>\n",
       "      <td>Rik01.FVC_C.2bql7p8d.wav</td>\n",
       "      <td>1.52</td>\n",
       "      <td>0.02</td>\n",
       "      <td>4.44</td>\n",
       "      <td>0.450450</td>\n",
       "      <td>9.18</td>\n",
       "      <td>3.01</td>\n",
       "      <td>3.31</td>\n",
       "      <td>90.936556</td>\n",
       "    </tr>\n",
       "    <tr>\n",
       "      <th>14</th>\n",
       "      <td>14</td>\n",
       "      <td>NaN</td>\n",
       "      <td>Rik02</td>\n",
       "      <td>Rik02.FVC_C.2bql8pcq.wav</td>\n",
       "      <td>1.43</td>\n",
       "      <td>0.02</td>\n",
       "      <td>4.64</td>\n",
       "      <td>0.431034</td>\n",
       "      <td>9.18</td>\n",
       "      <td>3.01</td>\n",
       "      <td>3.31</td>\n",
       "      <td>90.936556</td>\n",
       "    </tr>\n",
       "  </tbody>\n",
       "</table>\n",
       "</div>"
      ],
      "text/plain": [
       "    Unnamed: 0  Unnamed: 0.1        Name                             Filename  \\\n",
       "0            0           NaN  Maithili01        Maithili01.FVC_C.2b677eno.wav   \n",
       "1            1           NaN     Rahul01           Rahul01.FVC_C.2b8ks79f.wav   \n",
       "2            2           NaN   ShikhaD01         ShikhaD01.FVC_C.2b6c0d7k.wav   \n",
       "3            3           NaN   Vignesh01         Vignesh01.FVC_C.2bb95nom.wav   \n",
       "4            4           NaN      Yash01            Yash01.FVC_C.2b8n937i.wav   \n",
       "5            5           NaN    Sandra01          Sandra01.FVC_C.2bdaignt.wav   \n",
       "6            6           NaN     Hatim01           Hatim01.FVC_C.2be1a9u6.wav   \n",
       "7            7           NaN  Maithili02        Maithili02.FVC_C.2b676jbf.wav   \n",
       "8            8           NaN   Kaushal01  Kaushal01.FVC_C.06.LCL.2bldi9ts.wav   \n",
       "9            9           NaN   Kaushal02  Kaushal02.FVC_C.06.LCL.2bldi9ts.wav   \n",
       "10          10           NaN      Alok01            Alok01.FVC_C.2blkl0aa.wav   \n",
       "11          11           NaN    Monika01          Monika01.FVC_C.2blm3kre.wav   \n",
       "12          12           NaN      Alok02            Alok02.FVC_C.2blkl0aa.wav   \n",
       "13          13           NaN       Rik01             Rik01.FVC_C.2bql7p8d.wav   \n",
       "14          14           NaN       Rik02             Rik02.FVC_C.2bql8pcq.wav   \n",
       "\n",
       "    rPEF  rFEV1  rFVC    rRatio  gPEF  gFEV1  gFVC      gRatio  \n",
       "0   1.66   0.08  2.67  2.996255  4.39   2.12  2.86   74.125874  \n",
       "1   1.02   0.03  1.21  2.479339  7.00   3.43  3.43  100.000000  \n",
       "2   2.13   0.09  3.27  2.752294  4.50   1.92  2.07   92.753623  \n",
       "3   3.11   0.11  2.97  3.703704  7.12   3.16  3.28   96.341463  \n",
       "4   1.24   0.10  1.24  8.064516  7.81   2.96  2.96  100.000000  \n",
       "5   1.03   0.06  1.04  5.769231  4.07   2.59  2.67   97.003745  \n",
       "6   2.03   0.07  2.40  2.916667  2.52   0.61  2.73   22.344322  \n",
       "7   2.08   0.12  2.67  4.494382  4.39   2.12  2.86   74.125874  \n",
       "8   2.01   0.08  2.77  2.888087  8.42   3.36  3.60   93.333333  \n",
       "9   1.29   0.06  2.60  2.307692  8.42   3.36  3.60   93.333333  \n",
       "10  1.75   0.14  2.04  6.862745  7.98   3.33  3.76   88.563830  \n",
       "11  2.86   0.28  8.00  3.500000  6.86   2.78  2.89   96.193772  \n",
       "12  2.50   0.10  3.11  3.215434  7.98   3.33  3.76   88.563830  \n",
       "13  1.52   0.02  4.44  0.450450  9.18   3.01  3.31   90.936556  \n",
       "14  1.43   0.02  4.64  0.431034  9.18   3.01  3.31   90.936556  "
      ]
     },
     "execution_count": 6,
     "metadata": {},
     "output_type": "execute_result"
    }
   ],
   "source": [
    "#the file where all data is arranged.\n",
    "n95 = pd.read_csv(\"data_FVC_Cloth.csv\")\n",
    "print(\"Total Data Points = \",len(n95))\n",
    "n95.head(15)"
   ]
  },
  {
   "cell_type": "code",
   "execution_count": 7,
   "metadata": {},
   "outputs": [],
   "source": [
    "def getTSfeatures(filepath):\n",
    "    ys, fs = librosa.load(filepath)\n",
    "    ys = speechpy.processing.preemphasis(ys, cof=0.98)\n",
    "    \n",
    "    cfg = tsfel.get_features_by_domain()\n",
    "    stat_features = np.array(tsfel.time_series_features_extractor(cfg, ys))[0]\n",
    "    return stat_features"
   ]
  },
  {
   "cell_type": "code",
   "execution_count": 8,
   "metadata": {},
   "outputs": [
    {
     "name": "stdout",
     "output_type": "stream",
     "text": [
      "*** Feature extraction started ***\n",
      "60\n"
     ]
    },
    {
     "name": "stderr",
     "output_type": "stream",
     "text": [
      "C:\\ProgramData\\Anaconda3\\lib\\site-packages\\ipykernel_launcher.py:6: UserWarning: Using default sampling frequency set in configuration file.\n",
      "  \n"
     ]
    },
    {
     "data": {
      "text/html": [
       "\n",
       "              <p>\n",
       "                  Progress: 100% Complete\n",
       "              <p/>            \n",
       "              <progress\n",
       "                  value='60'\n",
       "                  max='60',\n",
       "                  style='width: 25%',\n",
       "              >\n",
       "                  60\n",
       "              </progress>\n",
       "\n",
       "    "
      ],
      "text/plain": [
       "<IPython.core.display.HTML object>"
      ]
     },
     "metadata": {},
     "output_type": "display_data"
    },
    {
     "name": "stdout",
     "output_type": "stream",
     "text": [
      "*** Feature extraction started ***\n",
      "60\n"
     ]
    },
    {
     "data": {
      "text/html": [
       "\n",
       "              <p>\n",
       "                  Progress: 100% Complete\n",
       "              <p/>            \n",
       "              <progress\n",
       "                  value='60'\n",
       "                  max='60',\n",
       "                  style='width: 25%',\n",
       "              >\n",
       "                  60\n",
       "              </progress>\n",
       "\n",
       "    "
      ],
      "text/plain": [
       "<IPython.core.display.HTML object>"
      ]
     },
     "metadata": {},
     "output_type": "display_data"
    },
    {
     "name": "stdout",
     "output_type": "stream",
     "text": [
      "*** Feature extraction started ***\n",
      "60\n"
     ]
    },
    {
     "data": {
      "text/html": [
       "\n",
       "              <p>\n",
       "                  Progress: 100% Complete\n",
       "              <p/>            \n",
       "              <progress\n",
       "                  value='60'\n",
       "                  max='60',\n",
       "                  style='width: 25%',\n",
       "              >\n",
       "                  60\n",
       "              </progress>\n",
       "\n",
       "    "
      ],
      "text/plain": [
       "<IPython.core.display.HTML object>"
      ]
     },
     "metadata": {},
     "output_type": "display_data"
    },
    {
     "name": "stdout",
     "output_type": "stream",
     "text": [
      "*** Feature extraction started ***\n",
      "60\n"
     ]
    },
    {
     "data": {
      "text/html": [
       "\n",
       "              <p>\n",
       "                  Progress: 100% Complete\n",
       "              <p/>            \n",
       "              <progress\n",
       "                  value='60'\n",
       "                  max='60',\n",
       "                  style='width: 25%',\n",
       "              >\n",
       "                  60\n",
       "              </progress>\n",
       "\n",
       "    "
      ],
      "text/plain": [
       "<IPython.core.display.HTML object>"
      ]
     },
     "metadata": {},
     "output_type": "display_data"
    },
    {
     "name": "stdout",
     "output_type": "stream",
     "text": [
      "*** Feature extraction started ***\n",
      "60\n"
     ]
    },
    {
     "data": {
      "text/html": [
       "\n",
       "              <p>\n",
       "                  Progress: 100% Complete\n",
       "              <p/>            \n",
       "              <progress\n",
       "                  value='60'\n",
       "                  max='60',\n",
       "                  style='width: 25%',\n",
       "              >\n",
       "                  60\n",
       "              </progress>\n",
       "\n",
       "    "
      ],
      "text/plain": [
       "<IPython.core.display.HTML object>"
      ]
     },
     "metadata": {},
     "output_type": "display_data"
    },
    {
     "name": "stdout",
     "output_type": "stream",
     "text": [
      "*** Feature extraction started ***\n",
      "60\n"
     ]
    },
    {
     "data": {
      "text/html": [
       "\n",
       "              <p>\n",
       "                  Progress: 100% Complete\n",
       "              <p/>            \n",
       "              <progress\n",
       "                  value='60'\n",
       "                  max='60',\n",
       "                  style='width: 25%',\n",
       "              >\n",
       "                  60\n",
       "              </progress>\n",
       "\n",
       "    "
      ],
      "text/plain": [
       "<IPython.core.display.HTML object>"
      ]
     },
     "metadata": {},
     "output_type": "display_data"
    },
    {
     "name": "stdout",
     "output_type": "stream",
     "text": [
      "*** Feature extraction started ***\n",
      "60\n"
     ]
    },
    {
     "data": {
      "text/html": [
       "\n",
       "              <p>\n",
       "                  Progress: 100% Complete\n",
       "              <p/>            \n",
       "              <progress\n",
       "                  value='60'\n",
       "                  max='60',\n",
       "                  style='width: 25%',\n",
       "              >\n",
       "                  60\n",
       "              </progress>\n",
       "\n",
       "    "
      ],
      "text/plain": [
       "<IPython.core.display.HTML object>"
      ]
     },
     "metadata": {},
     "output_type": "display_data"
    },
    {
     "name": "stdout",
     "output_type": "stream",
     "text": [
      "*** Feature extraction started ***\n",
      "60\n"
     ]
    },
    {
     "data": {
      "text/html": [
       "\n",
       "              <p>\n",
       "                  Progress: 100% Complete\n",
       "              <p/>            \n",
       "              <progress\n",
       "                  value='60'\n",
       "                  max='60',\n",
       "                  style='width: 25%',\n",
       "              >\n",
       "                  60\n",
       "              </progress>\n",
       "\n",
       "    "
      ],
      "text/plain": [
       "<IPython.core.display.HTML object>"
      ]
     },
     "metadata": {},
     "output_type": "display_data"
    },
    {
     "name": "stdout",
     "output_type": "stream",
     "text": [
      "*** Feature extraction started ***\n",
      "60\n"
     ]
    },
    {
     "data": {
      "text/html": [
       "\n",
       "              <p>\n",
       "                  Progress: 100% Complete\n",
       "              <p/>            \n",
       "              <progress\n",
       "                  value='60'\n",
       "                  max='60',\n",
       "                  style='width: 25%',\n",
       "              >\n",
       "                  60\n",
       "              </progress>\n",
       "\n",
       "    "
      ],
      "text/plain": [
       "<IPython.core.display.HTML object>"
      ]
     },
     "metadata": {},
     "output_type": "display_data"
    },
    {
     "name": "stdout",
     "output_type": "stream",
     "text": [
      "*** Feature extraction started ***\n",
      "60\n"
     ]
    },
    {
     "data": {
      "text/html": [
       "\n",
       "              <p>\n",
       "                  Progress: 100% Complete\n",
       "              <p/>            \n",
       "              <progress\n",
       "                  value='60'\n",
       "                  max='60',\n",
       "                  style='width: 25%',\n",
       "              >\n",
       "                  60\n",
       "              </progress>\n",
       "\n",
       "    "
      ],
      "text/plain": [
       "<IPython.core.display.HTML object>"
      ]
     },
     "metadata": {},
     "output_type": "display_data"
    },
    {
     "name": "stdout",
     "output_type": "stream",
     "text": [
      "*** Feature extraction started ***\n",
      "60\n"
     ]
    },
    {
     "data": {
      "text/html": [
       "\n",
       "              <p>\n",
       "                  Progress: 100% Complete\n",
       "              <p/>            \n",
       "              <progress\n",
       "                  value='60'\n",
       "                  max='60',\n",
       "                  style='width: 25%',\n",
       "              >\n",
       "                  60\n",
       "              </progress>\n",
       "\n",
       "    "
      ],
      "text/plain": [
       "<IPython.core.display.HTML object>"
      ]
     },
     "metadata": {},
     "output_type": "display_data"
    },
    {
     "name": "stdout",
     "output_type": "stream",
     "text": [
      "*** Feature extraction started ***\n",
      "60\n"
     ]
    },
    {
     "data": {
      "text/html": [
       "\n",
       "              <p>\n",
       "                  Progress: 100% Complete\n",
       "              <p/>            \n",
       "              <progress\n",
       "                  value='60'\n",
       "                  max='60',\n",
       "                  style='width: 25%',\n",
       "              >\n",
       "                  60\n",
       "              </progress>\n",
       "\n",
       "    "
      ],
      "text/plain": [
       "<IPython.core.display.HTML object>"
      ]
     },
     "metadata": {},
     "output_type": "display_data"
    },
    {
     "name": "stdout",
     "output_type": "stream",
     "text": [
      "*** Feature extraction started ***\n",
      "60\n"
     ]
    },
    {
     "data": {
      "text/html": [
       "\n",
       "              <p>\n",
       "                  Progress: 100% Complete\n",
       "              <p/>            \n",
       "              <progress\n",
       "                  value='60'\n",
       "                  max='60',\n",
       "                  style='width: 25%',\n",
       "              >\n",
       "                  60\n",
       "              </progress>\n",
       "\n",
       "    "
      ],
      "text/plain": [
       "<IPython.core.display.HTML object>"
      ]
     },
     "metadata": {},
     "output_type": "display_data"
    },
    {
     "name": "stdout",
     "output_type": "stream",
     "text": [
      "*** Feature extraction started ***\n",
      "60\n"
     ]
    },
    {
     "data": {
      "text/html": [
       "\n",
       "              <p>\n",
       "                  Progress: 100% Complete\n",
       "              <p/>            \n",
       "              <progress\n",
       "                  value='60'\n",
       "                  max='60',\n",
       "                  style='width: 25%',\n",
       "              >\n",
       "                  60\n",
       "              </progress>\n",
       "\n",
       "    "
      ],
      "text/plain": [
       "<IPython.core.display.HTML object>"
      ]
     },
     "metadata": {},
     "output_type": "display_data"
    },
    {
     "name": "stdout",
     "output_type": "stream",
     "text": [
      "*** Feature extraction started ***\n",
      "60\n"
     ]
    },
    {
     "data": {
      "text/html": [
       "\n",
       "              <p>\n",
       "                  Progress: 100% Complete\n",
       "              <p/>            \n",
       "              <progress\n",
       "                  value='60'\n",
       "                  max='60',\n",
       "                  style='width: 25%',\n",
       "              >\n",
       "                  60\n",
       "              </progress>\n",
       "\n",
       "    "
      ],
      "text/plain": [
       "<IPython.core.display.HTML object>"
      ]
     },
     "metadata": {},
     "output_type": "display_data"
    },
    {
     "name": "stdout",
     "output_type": "stream",
     "text": [
      "*** Feature extraction started ***\n",
      "60\n"
     ]
    },
    {
     "data": {
      "text/html": [
       "\n",
       "              <p>\n",
       "                  Progress: 100% Complete\n",
       "              <p/>            \n",
       "              <progress\n",
       "                  value='60'\n",
       "                  max='60',\n",
       "                  style='width: 25%',\n",
       "              >\n",
       "                  60\n",
       "              </progress>\n",
       "\n",
       "    "
      ],
      "text/plain": [
       "<IPython.core.display.HTML object>"
      ]
     },
     "metadata": {},
     "output_type": "display_data"
    },
    {
     "name": "stdout",
     "output_type": "stream",
     "text": [
      "*** Feature extraction started ***\n",
      "60\n"
     ]
    },
    {
     "data": {
      "text/html": [
       "\n",
       "              <p>\n",
       "                  Progress: 100% Complete\n",
       "              <p/>            \n",
       "              <progress\n",
       "                  value='60'\n",
       "                  max='60',\n",
       "                  style='width: 25%',\n",
       "              >\n",
       "                  60\n",
       "              </progress>\n",
       "\n",
       "    "
      ],
      "text/plain": [
       "<IPython.core.display.HTML object>"
      ]
     },
     "metadata": {},
     "output_type": "display_data"
    },
    {
     "name": "stdout",
     "output_type": "stream",
     "text": [
      "*** Feature extraction started ***\n",
      "60\n"
     ]
    },
    {
     "data": {
      "text/html": [
       "\n",
       "              <p>\n",
       "                  Progress: 100% Complete\n",
       "              <p/>            \n",
       "              <progress\n",
       "                  value='60'\n",
       "                  max='60',\n",
       "                  style='width: 25%',\n",
       "              >\n",
       "                  60\n",
       "              </progress>\n",
       "\n",
       "    "
      ],
      "text/plain": [
       "<IPython.core.display.HTML object>"
      ]
     },
     "metadata": {},
     "output_type": "display_data"
    },
    {
     "name": "stdout",
     "output_type": "stream",
     "text": [
      "*** Feature extraction started ***\n",
      "60\n"
     ]
    },
    {
     "data": {
      "text/html": [
       "\n",
       "              <p>\n",
       "                  Progress: 100% Complete\n",
       "              <p/>            \n",
       "              <progress\n",
       "                  value='60'\n",
       "                  max='60',\n",
       "                  style='width: 25%',\n",
       "              >\n",
       "                  60\n",
       "              </progress>\n",
       "\n",
       "    "
      ],
      "text/plain": [
       "<IPython.core.display.HTML object>"
      ]
     },
     "metadata": {},
     "output_type": "display_data"
    },
    {
     "name": "stdout",
     "output_type": "stream",
     "text": [
      "*** Feature extraction started ***\n",
      "60\n"
     ]
    },
    {
     "data": {
      "text/html": [
       "\n",
       "              <p>\n",
       "                  Progress: 100% Complete\n",
       "              <p/>            \n",
       "              <progress\n",
       "                  value='60'\n",
       "                  max='60',\n",
       "                  style='width: 25%',\n",
       "              >\n",
       "                  60\n",
       "              </progress>\n",
       "\n",
       "    "
      ],
      "text/plain": [
       "<IPython.core.display.HTML object>"
      ]
     },
     "metadata": {},
     "output_type": "display_data"
    },
    {
     "name": "stdout",
     "output_type": "stream",
     "text": [
      "*** Feature extraction started ***\n",
      "60\n"
     ]
    },
    {
     "data": {
      "text/html": [
       "\n",
       "              <p>\n",
       "                  Progress: 100% Complete\n",
       "              <p/>            \n",
       "              <progress\n",
       "                  value='60'\n",
       "                  max='60',\n",
       "                  style='width: 25%',\n",
       "              >\n",
       "                  60\n",
       "              </progress>\n",
       "\n",
       "    "
      ],
      "text/plain": [
       "<IPython.core.display.HTML object>"
      ]
     },
     "metadata": {},
     "output_type": "display_data"
    },
    {
     "name": "stdout",
     "output_type": "stream",
     "text": [
      "*** Feature extraction started ***\n",
      "60\n"
     ]
    },
    {
     "data": {
      "text/html": [
       "\n",
       "              <p>\n",
       "                  Progress: 100% Complete\n",
       "              <p/>            \n",
       "              <progress\n",
       "                  value='60'\n",
       "                  max='60',\n",
       "                  style='width: 25%',\n",
       "              >\n",
       "                  60\n",
       "              </progress>\n",
       "\n",
       "    "
      ],
      "text/plain": [
       "<IPython.core.display.HTML object>"
      ]
     },
     "metadata": {},
     "output_type": "display_data"
    },
    {
     "name": "stdout",
     "output_type": "stream",
     "text": [
      "*** Feature extraction started ***\n",
      "60\n"
     ]
    },
    {
     "data": {
      "text/html": [
       "\n",
       "              <p>\n",
       "                  Progress: 100% Complete\n",
       "              <p/>            \n",
       "              <progress\n",
       "                  value='60'\n",
       "                  max='60',\n",
       "                  style='width: 25%',\n",
       "              >\n",
       "                  60\n",
       "              </progress>\n",
       "\n",
       "    "
      ],
      "text/plain": [
       "<IPython.core.display.HTML object>"
      ]
     },
     "metadata": {},
     "output_type": "display_data"
    },
    {
     "name": "stdout",
     "output_type": "stream",
     "text": [
      "*** Feature extraction started ***\n",
      "60\n"
     ]
    },
    {
     "data": {
      "text/html": [
       "\n",
       "              <p>\n",
       "                  Progress: 100% Complete\n",
       "              <p/>            \n",
       "              <progress\n",
       "                  value='60'\n",
       "                  max='60',\n",
       "                  style='width: 25%',\n",
       "              >\n",
       "                  60\n",
       "              </progress>\n",
       "\n",
       "    "
      ],
      "text/plain": [
       "<IPython.core.display.HTML object>"
      ]
     },
     "metadata": {},
     "output_type": "display_data"
    },
    {
     "name": "stdout",
     "output_type": "stream",
     "text": [
      "*** Feature extraction started ***\n",
      "60\n"
     ]
    },
    {
     "data": {
      "text/html": [
       "\n",
       "              <p>\n",
       "                  Progress: 100% Complete\n",
       "              <p/>            \n",
       "              <progress\n",
       "                  value='60'\n",
       "                  max='60',\n",
       "                  style='width: 25%',\n",
       "              >\n",
       "                  60\n",
       "              </progress>\n",
       "\n",
       "    "
      ],
      "text/plain": [
       "<IPython.core.display.HTML object>"
      ]
     },
     "metadata": {},
     "output_type": "display_data"
    }
   ],
   "source": [
    "di = {}\n",
    "for file in n95['Filename']:\n",
    "    result = getTSfeatures(\"SpiroMask-July2021/SmartMaskData/FVC/Cloth/\"+file)\n",
    "    di[file] = result"
   ]
  },
  {
   "cell_type": "code",
   "execution_count": 9,
   "metadata": {},
   "outputs": [],
   "source": [
    "with open('ts-fel-cloth.pickle', 'wb') as handle:\n",
    "    pickle.dump(di, handle, protocol=pickle.HIGHEST_PROTOCOL)"
   ]
  },
  {
   "cell_type": "code",
   "execution_count": null,
   "metadata": {},
   "outputs": [],
   "source": []
  }
 ],
 "metadata": {
  "hide_input": false,
  "kernelspec": {
   "display_name": "Python 3",
   "language": "python",
   "name": "python3"
  },
  "language_info": {
   "codemirror_mode": {
    "name": "ipython",
    "version": 3
   },
   "file_extension": ".py",
   "mimetype": "text/x-python",
   "name": "python",
   "nbconvert_exporter": "python",
   "pygments_lexer": "ipython3",
   "version": "3.6.5"
  }
 },
 "nbformat": 4,
 "nbformat_minor": 2
}
