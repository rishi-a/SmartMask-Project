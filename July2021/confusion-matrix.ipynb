{
 "cells": [
  {
   "cell_type": "code",
   "execution_count": 1,
   "metadata": {},
   "outputs": [],
   "source": [
    "import latexify as lt"
   ]
  },
  {
   "cell_type": "code",
   "execution_count": 2,
   "metadata": {},
   "outputs": [
    {
     "name": "stderr",
     "output_type": "stream",
     "text": [
      "C:\\ProgramData\\Anaconda3\\lib\\_collections_abc.py:841: MatplotlibDeprecationWarning: Support for setting the 'text.latex.preamble' or 'pgf.preamble' rcParam to a list of strings is deprecated since 3.3 and will be removed two minor releases later; set it to a single string instead.\n",
      "  self[key] = other[key]\n"
     ]
    },
    {
     "data": {
      "image/png": "[encoded data removed]",
      "text/plain": [
       "<Figure size 244.08x144 with 2 Axes>"
      ]
     },
     "metadata": {},
     "output_type": "display_data"
    }
   ],
   "source": [
    "import seaborn as sn\n",
    "import pandas as pd\n",
    "import matplotlib.pyplot as plt\n",
    "lt.latexify(columns=1, fig_height=2)\n",
    "fig, ax = plt.subplots(1,1)\n",
    "\n",
    "array = [[97.9,1.7,0.3],\n",
    "         [0.5,98.6,0.9],\n",
    "         [1.5,0.1,98.5]]\n",
    "\n",
    "df_cm = pd.DataFrame(array, ['Noise', 'Speech', 'Tidal\\nBreathing'], ['Noise', 'Speech', 'Tidal\\nBreathing'])\n",
    "#plt.figure(figsize=(10,7))\n",
    "\n",
    "#sn.heatmap(df_cm, annot=True)\n",
    "ax = sn.heatmap(df_cm, annot=True, annot_kws={\"size\": 15}, fmt='g', cbar_kws={'label': 'Percentage','ticks': [0, 50,100]}, vmax=100, vmin=0,ax=ax) # font size\n",
    "\n",
    "ax.set_xlabel('Predicted Class');\n",
    "ax.set_ylabel('Ground Truth');\n",
    "\n",
    "\n",
    "lt.format_axes(ax)\n",
    "plt.yticks(rotation=0) \n",
    "plt.tight_layout()\n",
    "plt.savefig(\"confusion-matrix.pdf\", bbox_inches='tight')"
   ]
  },
  {
   "cell_type": "code",
   "execution_count": null,
   "metadata": {},
   "outputs": [],
   "source": []
  }
 ],
 "metadata": {
  "hide_input": false,
  "kernelspec": {
   "display_name": "Python 3",
   "language": "python",
   "name": "python3"
  },
  "language_info": {
   "codemirror_mode": {
    "name": "ipython",
    "version": 3
   },
   "file_extension": ".py",
   "mimetype": "text/x-python",
   "name": "python",
   "nbconvert_exporter": "python",
   "pygments_lexer": "ipython3",
   "version": "3.6.5"
  }
 },
 "nbformat": 4,
 "nbformat_minor": 2
}
