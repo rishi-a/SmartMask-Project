{
 "cells": [
  {
   "cell_type": "code",
   "execution_count": 1,
   "metadata": {},
   "outputs": [],
   "source": [
    "import os\n",
    "import json\n",
    "import pandas as pd"
   ]
  },
  {
   "cell_type": "code",
   "execution_count": 4,
   "metadata": {},
   "outputs": [
    {
     "name": "stdout",
     "output_type": "stream",
     "text": [
      "Ground Truth File does not exists. Creating it. . .\n"
     ]
    }
   ],
   "source": [
    "\n",
    "#read the ground truth file\n",
    "#open the file where the measured values present\n",
    "f = open('groundTruth.json')\n",
    "measured = json.load(f)\n",
    "\n",
    "UID = ['P'+str(i) for i in range(0,100)]\n",
    "#set i according to the last entry we have\n",
    "i=0\n",
    "\n",
    "try:\n",
    "    pd.read_csv('GT_FB_N95.csv')\n",
    "except:\n",
    "    print(\"Ground Truth File does not exists. Creating it. . .\")\n",
    "    #execute one time only\n",
    "    df = pd.DataFrame(\n",
    "        {'UID': [],\n",
    "         'Name':[],\n",
    "         'gPEF': [],\n",
    "         'gFEV1': [],\n",
    "         'gFVC': []\n",
    "        })\n",
    "\n",
    "\n",
    "#select path where audio data is stored\n",
    "mypath=\"SmartMaskData/FVC/N95/\"\n",
    "newpath = \"anonymizeData/FVC/N95/\"\n",
    "(_, _, filenames) = next(os.walk(mypath))\n",
    "names = [file.split('.')[0] for file in filenames]\n",
    "\n",
    "for file in filenames:\n",
    "    if file.split('.')[0] in measured['Name'].values():\n",
    "        #TODO: check here if file is of nature PXX.XXX.XXXX, if it is then dont do anything\n",
    "        for key, value in measured['Name'].items():\n",
    "            if value == file.split('.')[0]:\n",
    "                \n",
    "                os.rename(mypath+file, newpath+UID[i]+\".\"+\".\".join(file.split('.')[1:]))\n",
    "                row = {'UID':UID[i],'Name':value,'gPEF': measured['PEF'][key], 'gFEV1': measured['FEV1'][key], 'gFVC':measured['FVC'][key]}\n",
    "                df = df.append(row, ignore_index = True)\n",
    "                i+=1\n",
    "            \n",
    "    else:\n",
    "        print(\"Entry Not Found for {}\".format(name))\n",
    "df.to_csv('GT_FB_N95.csv')    "
   ]
  },
  {
   "cell_type": "code",
   "execution_count": null,
   "metadata": {},
   "outputs": [],
   "source": []
  }
 ],
 "metadata": {
  "hide_input": false,
  "kernelspec": {
   "display_name": "Python 3",
   "language": "python",
   "name": "python3"
  },
  "language_info": {
   "codemirror_mode": {
    "name": "ipython",
    "version": 3
   },
   "file_extension": ".py",
   "mimetype": "text/x-python",
   "name": "python",
   "nbconvert_exporter": "python",
   "pygments_lexer": "ipython3",
   "version": "3.6.5"
  }
 },
 "nbformat": 4,
 "nbformat_minor": 2
}
