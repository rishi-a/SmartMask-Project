{
 "cells": [
  {
   "cell_type": "code",
   "execution_count": 1,
   "metadata": {},
   "outputs": [],
   "source": [
    "import os\n",
    "import json\n",
    "import pandas as pd"
   ]
  },
  {
   "cell_type": "code",
   "execution_count": 8,
   "metadata": {},
   "outputs": [
    {
     "name": "stdout",
     "output_type": "stream",
     "text": [
      "Ground Truth File does not exists. Creating it. . .\n"
     ]
    }
   ],
   "source": [
    "#N95 mask\n",
    "UID = ['PT'+str(i) for i in range(0,100)]\n",
    "\n",
    "i=0 #be careful on what to set this to\n",
    "\n",
    "try:\n",
    "    pd.read_csv('GT_TB_N95.csv')\n",
    "except:\n",
    "    print(\"Ground Truth File does not exists. Creating it. . .\")\n",
    "    #execute one time only\n",
    "    df = pd.DataFrame(\n",
    "        {'UID': [],\n",
    "         'Name':[]\n",
    "        })\n",
    "\n",
    "\n",
    "mypath=\"SmartMaskData/Tidal/N95/\"\n",
    "newpath = \"anonymizeData/Tidal/N95/\"\n",
    "\n",
    "(_, _, filenames) = next(os.walk(mypath))\n",
    "names = [file.split('.')[0] for file in filenames]\n",
    "\n",
    "for file in filenames:\n",
    "    os.rename(mypath+file, newpath+UID[i]+\".\"+\".\".join(file.split('.')[1:]))\n",
    "    row = {'UID':UID[i] ,'Name':file}\n",
    "    df = df.append(row, ignore_index = True)\n",
    "    i+=1\n",
    "df.to_csv('GT_TB_N95.csv')    "
   ]
  },
  {
   "cell_type": "code",
   "execution_count": 9,
   "metadata": {},
   "outputs": [
    {
     "name": "stdout",
     "output_type": "stream",
     "text": [
      "Ground Truth File does not exists. Creating it. . .\n"
     ]
    }
   ],
   "source": [
    "#N95 mask\n",
    "UID = ['PT'+str(i) for i in range(0,100)]\n",
    "\n",
    "i=0 #be careful on what to set this to\n",
    "\n",
    "try:\n",
    "    pd.read_csv('GT_TB_Cloth.csv')\n",
    "except:\n",
    "    print(\"Ground Truth File does not exists. Creating it. . .\")\n",
    "    #execute one time only\n",
    "    df = pd.DataFrame(\n",
    "        {'UID': [],\n",
    "         'Name':[]\n",
    "        })\n",
    "\n",
    "\n",
    "mypath=\"SmartMaskData/Tidal/Cloth/\"\n",
    "newpath = \"anonymizeData/Tidal/Cloth/\"\n",
    "\n",
    "(_, _, filenames) = next(os.walk(mypath))\n",
    "names = [file.split('.')[0] for file in filenames]\n",
    "\n",
    "for file in filenames:\n",
    "    os.rename(mypath+file, newpath+UID[i]+\".\"+\".\".join(file.split('.')[1:]))\n",
    "    row = {'UID':UID[i] ,'Name':file}\n",
    "    df = df.append(row, ignore_index = True)\n",
    "    i+=1\n",
    "df.to_csv('GT_TB_Cloth.csv')    "
   ]
  },
  {
   "cell_type": "code",
   "execution_count": null,
   "metadata": {},
   "outputs": [],
   "source": []
  }
 ],
 "metadata": {
  "hide_input": false,
  "kernelspec": {
   "display_name": "Python 3",
   "language": "python",
   "name": "python3"
  },
  "language_info": {
   "codemirror_mode": {
    "name": "ipython",
    "version": 3
   },
   "file_extension": ".py",
   "mimetype": "text/x-python",
   "name": "python",
   "nbconvert_exporter": "python",
   "pygments_lexer": "ipython3",
   "version": "3.6.5"
  }
 },
 "nbformat": 4,
 "nbformat_minor": 2
}
