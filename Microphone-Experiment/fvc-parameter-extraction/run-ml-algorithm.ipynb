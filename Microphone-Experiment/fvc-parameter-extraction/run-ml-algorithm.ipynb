{
 "cells": [
  {
   "cell_type": "code",
   "execution_count": 1,
   "metadata": {},
   "outputs": [],
   "source": [
    "import librosa\n",
    "import librosa.display\n",
    "import IPython.display as ipd\n",
    "import numpy as np\n",
    "import sklearn\n",
    "import pandas as pd\n",
    "from sklearn.model_selection import LeaveOneOut\n",
    "from sklearn.linear_model import LinearRegression\n",
    "from sklearn.ensemble import RandomForestRegressor\n",
    "from sklearn.svm import SVR\n",
    "from sklearn.linear_model import Lasso\n",
    "from sklearn.linear_model import Ridge\n",
    "import xgboost as xgb\n",
    "from sklearn.metrics import mean_squared_error\n",
    "import matplotlib\n",
    "import matplotlib.pyplot as plt\n",
    "import latexify as lt\n",
    "import os\n",
    "from thinkdsp import read_json\n",
    "#LOSO Validation\n",
    "loo = LeaveOneOut()"
   ]
  },
  {
   "cell_type": "markdown",
   "metadata": {},
   "source": [
    "LR with advanced features (MFCC, Chroma and Melspectogram)"
   ]
  },
  {
   "cell_type": "code",
   "execution_count": 2,
   "metadata": {},
   "outputs": [
    {
     "name": "stdout",
     "output_type": "stream",
     "text": [
      "Total Data Points =  11\n"
     ]
    },
    {
     "data": {
      "text/html": [
       "<div>\n",
       "<style scoped>\n",
       "    .dataframe tbody tr th:only-of-type {\n",
       "        vertical-align: middle;\n",
       "    }\n",
       "\n",
       "    .dataframe tbody tr th {\n",
       "        vertical-align: top;\n",
       "    }\n",
       "\n",
       "    .dataframe thead th {\n",
       "        text-align: right;\n",
       "    }\n",
       "</style>\n",
       "<table border=\"1\" class=\"dataframe\">\n",
       "  <thead>\n",
       "    <tr style=\"text-align: right;\">\n",
       "      <th></th>\n",
       "      <th>Unnamed: 0</th>\n",
       "      <th>Filename</th>\n",
       "      <th>rPEF</th>\n",
       "      <th>rFEV1</th>\n",
       "      <th>rFVC</th>\n",
       "      <th>rFEVFVC</th>\n",
       "      <th>tPEF</th>\n",
       "      <th>tFEV1</th>\n",
       "      <th>tFVC</th>\n",
       "      <th>tFEVFVC</th>\n",
       "      <th>PEFdiff</th>\n",
       "      <th>FEVdiff</th>\n",
       "      <th>FVCdiff</th>\n",
       "      <th>age</th>\n",
       "      <th>height</th>\n",
       "    </tr>\n",
       "  </thead>\n",
       "  <tbody>\n",
       "    <tr>\n",
       "      <th>0</th>\n",
       "      <td>2</td>\n",
       "      <td>006_FVC_N95_1.json</td>\n",
       "      <td>9.426188</td>\n",
       "      <td>1.957211</td>\n",
       "      <td>2.547454</td>\n",
       "      <td>76.830098</td>\n",
       "      <td>5.57</td>\n",
       "      <td>2.77</td>\n",
       "      <td>3.02</td>\n",
       "      <td>91.721854</td>\n",
       "      <td>-3.856188</td>\n",
       "      <td>0.812789</td>\n",
       "      <td>0.472546</td>\n",
       "      <td>27</td>\n",
       "      <td>155</td>\n",
       "    </tr>\n",
       "    <tr>\n",
       "      <th>1</th>\n",
       "      <td>10</td>\n",
       "      <td>012_FVC_N95_2.json</td>\n",
       "      <td>9.541296</td>\n",
       "      <td>1.602125</td>\n",
       "      <td>2.243371</td>\n",
       "      <td>71.415974</td>\n",
       "      <td>5.47</td>\n",
       "      <td>2.40</td>\n",
       "      <td>2.72</td>\n",
       "      <td>88.235294</td>\n",
       "      <td>-4.071296</td>\n",
       "      <td>0.797875</td>\n",
       "      <td>0.476629</td>\n",
       "      <td>25</td>\n",
       "      <td>163</td>\n",
       "    </tr>\n",
       "    <tr>\n",
       "      <th>2</th>\n",
       "      <td>15</td>\n",
       "      <td>Anubhav_FVC_N95Mask_1.json</td>\n",
       "      <td>9.910800</td>\n",
       "      <td>2.477272</td>\n",
       "      <td>3.786664</td>\n",
       "      <td>65.420948</td>\n",
       "      <td>6.05</td>\n",
       "      <td>3.33</td>\n",
       "      <td>4.33</td>\n",
       "      <td>76.905312</td>\n",
       "      <td>-3.860800</td>\n",
       "      <td>0.852728</td>\n",
       "      <td>0.543336</td>\n",
       "      <td>21</td>\n",
       "      <td>180</td>\n",
       "    </tr>\n",
       "    <tr>\n",
       "      <th>3</th>\n",
       "      <td>18</td>\n",
       "      <td>Rishiraj_FVC_N95Mask_1.json</td>\n",
       "      <td>12.438241</td>\n",
       "      <td>2.250131</td>\n",
       "      <td>2.983454</td>\n",
       "      <td>75.420321</td>\n",
       "      <td>8.30</td>\n",
       "      <td>3.02</td>\n",
       "      <td>3.49</td>\n",
       "      <td>86.532951</td>\n",
       "      <td>-4.138241</td>\n",
       "      <td>0.769869</td>\n",
       "      <td>0.506546</td>\n",
       "      <td>28</td>\n",
       "      <td>165</td>\n",
       "    </tr>\n",
       "    <tr>\n",
       "      <th>4</th>\n",
       "      <td>21</td>\n",
       "      <td>Rohit_FVC_N95Mask_2.json</td>\n",
       "      <td>12.282675</td>\n",
       "      <td>2.874539</td>\n",
       "      <td>3.737664</td>\n",
       "      <td>76.907372</td>\n",
       "      <td>7.79</td>\n",
       "      <td>3.65</td>\n",
       "      <td>4.24</td>\n",
       "      <td>86.084906</td>\n",
       "      <td>-4.492675</td>\n",
       "      <td>0.775461</td>\n",
       "      <td>0.502336</td>\n",
       "      <td>21</td>\n",
       "      <td>170</td>\n",
       "    </tr>\n",
       "    <tr>\n",
       "      <th>5</th>\n",
       "      <td>14</td>\n",
       "      <td>014_FVC_N95_2.json</td>\n",
       "      <td>10.651584</td>\n",
       "      <td>1.759281</td>\n",
       "      <td>2.005181</td>\n",
       "      <td>87.736791</td>\n",
       "      <td>6.16</td>\n",
       "      <td>2.41</td>\n",
       "      <td>2.52</td>\n",
       "      <td>95.634921</td>\n",
       "      <td>-4.491584</td>\n",
       "      <td>0.650719</td>\n",
       "      <td>0.514819</td>\n",
       "      <td>25</td>\n",
       "      <td>165</td>\n",
       "    </tr>\n",
       "    <tr>\n",
       "      <th>6</th>\n",
       "      <td>16</td>\n",
       "      <td>017_FVC_N95_2.json</td>\n",
       "      <td>9.194612</td>\n",
       "      <td>1.098786</td>\n",
       "      <td>3.048900</td>\n",
       "      <td>36.038764</td>\n",
       "      <td>5.03</td>\n",
       "      <td>1.98</td>\n",
       "      <td>2.42</td>\n",
       "      <td>81.818182</td>\n",
       "      <td>-4.164612</td>\n",
       "      <td>0.881214</td>\n",
       "      <td>-0.628900</td>\n",
       "      <td>55</td>\n",
       "      <td>160</td>\n",
       "    </tr>\n",
       "  </tbody>\n",
       "</table>\n",
       "</div>"
      ],
      "text/plain": [
       "   Unnamed: 0                     Filename       rPEF     rFEV1      rFVC  \\\n",
       "0           2           006_FVC_N95_1.json   9.426188  1.957211  2.547454   \n",
       "1          10           012_FVC_N95_2.json   9.541296  1.602125  2.243371   \n",
       "2          15   Anubhav_FVC_N95Mask_1.json   9.910800  2.477272  3.786664   \n",
       "3          18  Rishiraj_FVC_N95Mask_1.json  12.438241  2.250131  2.983454   \n",
       "4          21     Rohit_FVC_N95Mask_2.json  12.282675  2.874539  3.737664   \n",
       "5          14           014_FVC_N95_2.json  10.651584  1.759281  2.005181   \n",
       "6          16           017_FVC_N95_2.json   9.194612  1.098786  3.048900   \n",
       "\n",
       "     rFEVFVC  tPEF  tFEV1  tFVC    tFEVFVC   PEFdiff   FEVdiff   FVCdiff  age  \\\n",
       "0  76.830098  5.57   2.77  3.02  91.721854 -3.856188  0.812789  0.472546   27   \n",
       "1  71.415974  5.47   2.40  2.72  88.235294 -4.071296  0.797875  0.476629   25   \n",
       "2  65.420948  6.05   3.33  4.33  76.905312 -3.860800  0.852728  0.543336   21   \n",
       "3  75.420321  8.30   3.02  3.49  86.532951 -4.138241  0.769869  0.506546   28   \n",
       "4  76.907372  7.79   3.65  4.24  86.084906 -4.492675  0.775461  0.502336   21   \n",
       "5  87.736791  6.16   2.41  2.52  95.634921 -4.491584  0.650719  0.514819   25   \n",
       "6  36.038764  5.03   1.98  2.42  81.818182 -4.164612  0.881214 -0.628900   55   \n",
       "\n",
       "   height  \n",
       "0     155  \n",
       "1     163  \n",
       "2     180  \n",
       "3     165  \n",
       "4     170  \n",
       "5     165  \n",
       "6     160  "
      ]
     },
     "execution_count": 2,
     "metadata": {},
     "output_type": "execute_result"
    }
   ],
   "source": [
    "n95 = pd.read_csv(\"n95data-p1.csv\").dropna()\n",
    "print(\"Total Data Points = \",len(n95))\n",
    "n95.head(7)"
   ]
  },
  {
   "cell_type": "code",
   "execution_count": 52,
   "metadata": {},
   "outputs": [],
   "source": [
    "# to understand what is going on\n",
    "#wave = read_json(filepath=\"n95data/006_FVC_N95_1.json\")\n"
   ]
  },
  {
   "cell_type": "code",
   "execution_count": 3,
   "metadata": {},
   "outputs": [],
   "source": [
    "def get_features(filepath):\n",
    "    wave = read_json(filepath=filepath)\n",
    "\n",
    "    #get mfccs\n",
    "    '''\n",
    "    *MFCC*\n",
    "    We calculate the mean value for every single coefficient for MFCC. It means that for every audio file\n",
    "    we have a vector of size 13 elements (For MFCC with 13 coefficients).\n",
    "    \n",
    "    *MelSpectogram*\n",
    "    We calculate the mean value for every single mel band. It means that for every audio file\n",
    "    we have a vector of size 128 elements (For 128 Mel bands).\n",
    "    \n",
    "    *Chromagram*\n",
    "    12 Chroma Bins are produced by default. Similar to above, we  have a vector of size 12 for each audio file\n",
    "    \n",
    "    '''\n",
    "    mfc_coefficients = np.mean(librosa.feature.mfcc(y=wave.ys, n_mfcc=13, sr=16000),axis=1)\n",
    "    melspectogram = np.mean(librosa.feature.melspectrogram(y=wave.ys, sr=16000, n_mels=64, fmax=8000),axis=1)\n",
    "    stft_spectrogram=np.abs(librosa.stft(wave.ys))\n",
    "    chromagram=np.mean(librosa.feature.chroma_stft(S=stft_spectrogram, sr=16000),axis=1)\n",
    "    \n",
    "    '''\n",
    "    We now have a vector of size 13+128+12 = 153 in the feature matrix. Later, we also add the approximate\n",
    "    value of respective\n",
    "    lung parameter which changes the size of the vector to 154\n",
    "    '''\n",
    "    #feature_matrix_r = np.hstack((mfc_coefficients,melspectogram))\n",
    "    #feature_matrix_r = np.hstack((melspectogram))\n",
    "    feature_matrix_r = np.hstack((mfc_coefficients,melspectogram,chromagram))\n",
    "    \n",
    "    #feature_matrix = np.hstack((chromagram, melspectrogram, mfc_coefficients))\n",
    "    \n",
    "    #add the estimated param as a feature\n",
    "    #feature_matrix = np.hstack((feature_matrix_r, FEV1values))\n",
    "    return feature_matrix_r\n",
    "\n",
    "\n",
    "def load_data(lungParam):\n",
    "    '''\n",
    "    feature: it is either 'FEV1', 'FVC' or 'PEF'\n",
    "    '''\n",
    "    #get the ground truth\n",
    "    y=  np.array([i for i in n95['t'+lungParam]])\n",
    "    \n",
    "    #prepare to store a lot of features in X\n",
    "    X=[]\n",
    "    count = 0\n",
    "    for file in n95['Filename']:\n",
    "        features = get_features(\"n95data/\"+file)\n",
    "        X.append(features)\n",
    "        count += 1\n",
    "        # '\\r' + end='' results in printing over same line\n",
    "        #print('\\r' + f' Processed {count}/{22} audio samples',end=' ')\n",
    "    #print(\"All data loaded in X and Y, Please add the estimated features using np.htack\")\n",
    "    X =  np.array(X)\n",
    "    \n",
    "    #add the estiamted lung param as a feature\n",
    "    estiamtedValues = np.atleast_2d(n95['r'+lungParam].to_numpy()).T\n",
    "    X = np.hstack((X, estiamtedValues))\n",
    "    # Return arrays to plug into sklearn's cross-validation algorithms\n",
    "    return X, np.array(y)"
   ]
  },
  {
   "cell_type": "code",
   "execution_count": 4,
   "metadata": {},
   "outputs": [],
   "source": [
    "#ML inits\n",
    "regressor = RandomForestRegressor(n_estimators = 100, random_state = 0)"
   ]
  },
  {
   "cell_type": "code",
   "execution_count": 26,
   "metadata": {},
   "outputs": [],
   "source": [
    "#regressor = SVR(kernel = 'rbf', c=0.1)"
   ]
  },
  {
   "cell_type": "code",
   "execution_count": 27,
   "metadata": {},
   "outputs": [],
   "source": [
    "#regressor = xgb.XGBRegressor(objective ='reg:squarederror', colsample_bytree = 0.3, learning_rate = 0.5,max_depth = 50, alpha = 10, n_estimators = 50)"
   ]
  },
  {
   "cell_type": "code",
   "execution_count": 28,
   "metadata": {},
   "outputs": [],
   "source": [
    "#regressor = Lasso(alpha = 0.01)\n",
    "#regressor = Ridge(alpha=0.01)"
   ]
  },
  {
   "cell_type": "code",
   "execution_count": 5,
   "metadata": {},
   "outputs": [
    {
     "name": "stdout",
     "output_type": "stream",
     "text": [
      "TRAIN: [ 1  2  3  4  5  6  7  8  9 10] TEST: [0]\n",
      "Predicted=  [2.6824]\n",
      "True =  [2.77]\n",
      "TRAIN: [ 0  2  3  4  5  6  7  8  9 10] TEST: [1]\n",
      "Predicted=  [2.6798]\n",
      "True =  [2.4]\n",
      "TRAIN: [ 0  1  3  4  5  6  7  8  9 10] TEST: [2]\n",
      "Predicted=  [2.8821]\n",
      "True =  [3.33]\n",
      "TRAIN: [ 0  1  2  4  5  6  7  8  9 10] TEST: [3]\n",
      "Predicted=  [2.7794]\n",
      "True =  [3.02]\n",
      "TRAIN: [ 0  1  2  3  5  6  7  8  9 10] TEST: [4]\n",
      "Predicted=  [2.8288]\n",
      "True =  [3.65]\n",
      "TRAIN: [ 0  1  2  3  4  6  7  8  9 10] TEST: [5]\n",
      "Predicted=  [2.662]\n",
      "True =  [2.41]\n",
      "TRAIN: [ 0  1  2  3  4  5  7  8  9 10] TEST: [6]\n",
      "Predicted=  [2.8116]\n",
      "True =  [1.98]\n",
      "TRAIN: [ 0  1  2  3  4  5  6  8  9 10] TEST: [7]\n",
      "Predicted=  [2.8833]\n",
      "True =  [2.71]\n",
      "TRAIN: [ 0  1  2  3  4  5  6  7  9 10] TEST: [8]\n",
      "Predicted=  [2.4551]\n",
      "True =  [3.31]\n",
      "TRAIN: [ 0  1  2  3  4  5  6  7  8 10] TEST: [9]\n",
      "Predicted=  [2.7594]\n",
      "True =  [2.09]\n",
      "TRAIN: [0 1 2 3 4 5 6 7 8 9] TEST: [10]\n",
      "Predicted=  [3.0175]\n",
      "True =  [2.04]\n",
      "PE Mean =  0.18496658546708716\n",
      "PE STD =  0.11145597435883649\n"
     ]
    }
   ],
   "source": [
    "X, Y = load_data('FEV1')\n",
    "loo.get_n_splits(X)\n",
    "mse=0\n",
    "pe= [] \n",
    "for train_index, test_index in loo.split(X):\n",
    "    print(\"TRAIN:\", train_index, \"TEST:\", test_index)\n",
    "    X_train, X_test = X[train_index], X[test_index]\n",
    "    y_train, y_test = Y[train_index], Y[test_index]\n",
    "    \n",
    "    #for RF and SVR\n",
    "    reg = regressor.fit(X_train, y_train)\n",
    "    \n",
    "    #reg = LinearRegression().fit(X_train, y_train)\n",
    "    #print(\"Learned coef is = \",reg.coef_[0])\n",
    "    #print(\"Learned intercept is = \",reg.intercept_)\n",
    "    print(\"Predicted= \", reg.predict(X_test))\n",
    "    print(\"True = \", y_test)\n",
    "    #mse = mse+mean_squared_error(reg.predict(X_test), y_test)\n",
    "    pe.append(np.abs((y_test-reg.predict(X_test))/reg.predict(X_test)))\n",
    "print(\"PE Mean = \", np.mean(pe));\n",
    "print(\"PE STD = \", np.std(pe))"
   ]
  },
  {
   "cell_type": "code",
   "execution_count": 13,
   "metadata": {},
   "outputs": [
    {
     "name": "stdout",
     "output_type": "stream",
     "text": [
      "110.453125\n"
     ]
    }
   ],
   "source": [
    "import pickle\n",
    "import sys\n",
    "\n",
    "p = pickle.dumps(reg)\n",
    "print(sys.getsizeof(p)/1024)"
   ]
  },
  {
   "cell_type": "code",
   "execution_count": 11,
   "metadata": {},
   "outputs": [],
   "source": [
    "sys.getsizeof?"
   ]
  },
  {
   "cell_type": "code",
   "execution_count": 48,
   "metadata": {},
   "outputs": [
    {
     "data": {
      "image/png": "[encoded data removed]",
      "text/plain": [
       "<Figure size 720x432 with 1 Axes>"
      ]
     },
     "metadata": {},
     "output_type": "display_data"
    }
   ],
   "source": [
    "#plot important features for MFCC [0-12]\n",
    "feature_names = [f'feature {i}' for i in range(X.shape[1])]\n",
    "importances = regressor.feature_importances_\n",
    "\n",
    "std = np.std([tree.feature_importances_ for tree in regressor.estimators_], axis=0)\n",
    "\n",
    "forest_importances = pd.Series(importances[:13], index=feature_names[:13])\n",
    "\n",
    "fig, ax = plt.subplots(figsize=(10,6))\n",
    "forest_importances.plot.bar(yerr=std[:13], ax=ax)\n",
    "ax.set_title(\"Feature importances using MDI\")\n",
    "ax.set_ylabel(\"Mean decrease in impurity\")\n",
    "fig.tight_layout()"
   ]
  },
  {
   "cell_type": "markdown",
   "metadata": {},
   "source": [
    "**It appears that MFCC Coeffieient Number 2, 4 and 6 are important**"
   ]
  },
  {
   "cell_type": "code",
   "execution_count": 20,
   "metadata": {},
   "outputs": [
    {
     "data": {
      "image/png": "[encoded data removed]",
      "text/plain": [
       "<Figure size 1080x432 with 1 Axes>"
      ]
     },
     "metadata": {},
     "output_type": "display_data"
    }
   ],
   "source": [
    "#plot important features for MelSpectogram [13-141]\n",
    "feature_names = [f'feature {i}' for i in range(X.shape[1])]\n",
    "importances = regressor.feature_importances_\n",
    "\n",
    "std = np.std([tree.feature_importances_ for tree in regressor.estimators_], axis=0)\n",
    "\n",
    "#realised that features beyond mel-band number 60 are anyway not important. Hence, we plot mel-band from 0 to 60\n",
    "forest_importances = pd.Series(importances[13:74], index=feature_names[13:74])\n",
    "\n",
    "fig, ax = plt.subplots(figsize=(15,6))\n",
    "forest_importances.plot.bar(yerr=std[13:74], ax=ax)\n",
    "ax.set_title(\"Feature importances using MDI\")\n",
    "ax.set_ylabel(\"Mean decrease in impurity\")\n",
    "plt.xticks(rotation=90)\n",
    "fig.tight_layout()"
   ]
  },
  {
   "cell_type": "markdown",
   "metadata": {},
   "source": [
    "**It appears that Mel band of 9, 30, 39 and 43 are important**"
   ]
  },
  {
   "cell_type": "code",
   "execution_count": 21,
   "metadata": {},
   "outputs": [
    {
     "data": {
      "image/png": "[encoded data removed]",
      "text/plain": [
       "<Figure size 1080x432 with 1 Axes>"
      ]
     },
     "metadata": {},
     "output_type": "display_data"
    }
   ],
   "source": [
    "#plot important features for Chromagram  [151-154] (also includes the last feature which is approximate value of lung param)\n",
    "\n",
    "feature_names = [f'feature {i}' for i in range(X.shape[1])]\n",
    "importances = regressor.feature_importances_\n",
    "\n",
    "std = np.std([tree.feature_importances_ for tree in regressor.estimators_], axis=0)\n",
    "\n",
    "#realised that features beyond mel-band number 60 are anyway not important. Hence, we plot mel-band from 0 to 60\n",
    "forest_importances = pd.Series(importances[141:154], index=feature_names[141:154])\n",
    "\n",
    "fig, ax = plt.subplots(figsize=(15,6))\n",
    "forest_importances.plot.bar(yerr=std[141:154], ax=ax)\n",
    "ax.set_title(\"Feature importances using MDI\")\n",
    "ax.set_ylabel(\"Mean decrease in impurity\")\n",
    "plt.xticks(rotation=90)\n",
    "fig.tight_layout()"
   ]
  },
  {
   "cell_type": "markdown",
   "metadata": {},
   "source": [
    "**It appears Chromagram Coeffieient 5,10 and 13 are important**"
   ]
  },
  {
   "cell_type": "markdown",
   "metadata": {},
   "source": [
    "Lets Plot the observed result"
   ]
  },
  {
   "cell_type": "code",
   "execution_count": 7,
   "metadata": {},
   "outputs": [
    {
     "name": "stderr",
     "output_type": "stream",
     "text": [
      "C:\\ProgramData\\Anaconda3\\lib\\_collections_abc.py:841: MatplotlibDeprecationWarning: Support for setting the 'text.latex.preamble' or 'pgf.preamble' rcParam to a list of strings is deprecated since 3.3 and will be removed two minor releases later; set it to a single string instead.\n",
      "  self[key] = other[key]\n"
     ]
    },
    {
     "data": {
      "image/png": "[encoded data removed]",
      "text/plain": [
       "<Figure size 496.8x144 with 2 Axes>"
      ]
     },
     "metadata": {},
     "output_type": "display_data"
    }
   ],
   "source": [
    "# plots to be manullly made using results from sheet\n",
    "#N95 Mask\n",
    "\n",
    "rf_pe= [2.1,5.1,6.7]\n",
    "lr_pe = [5.2,7.1,5.6]\n",
    "svr_pe = [5.2,10.2,7.3]\n",
    "\n",
    "rf_std= [1.5,2.2,1.1]\n",
    "lr_std = [1.3,2.2,1.5]\n",
    "svr_std = [2.6,4.5,4.2]\n",
    "\n",
    "rf_pe_u= [4.2,7,5.65]\n",
    "lr_pe_u = [7.3,8.85,5.85]\n",
    "svr_pe_u = [5.85,9.75,4.55]\n",
    "\n",
    "\n",
    "figname = 'revised-overall-error-n95'\n",
    "lt.latexify(columns=2, fig_height=2)\n",
    "labels = ['PEF', 'FEV1', 'FVC']\n",
    "\n",
    "\n",
    "x = np.arange(len(labels))  # the label locations\n",
    "width = 0.30  # the width of the bars\n",
    "\n",
    "fig, ax = plt.subplots(1,2)\n",
    "\n",
    "rects1 = ax[0].bar(x, rf_pe, width, label='Random Forest', yerr=rf_std, ecolor='black', capsize=2.5, align='center')\n",
    "rects2 = ax[0].bar(x + width, lr_pe, width, label='Linear Regression', yerr=lr_std, ecolor='black', capsize=2.5, align='center')\n",
    "rects3 = ax[0].bar(x + width*2, svr_pe, width, label='Support Vector Regressor', yerr=svr_std, ecolor='black', capsize=2.5, align='center')\n",
    "\n",
    "# Add some text for labels, title and custom x-axis tick labels, etc.\n",
    "ax[0].set_title(\"Overall Eror For All Participants\")\n",
    "ax[0].set_ylabel('Percentage Error\\n (Lower is better)',fontsize=12)\n",
    "#ax.set_title('Percentage Error For Differnet Type of Mask', fontsize=12)\n",
    "ax[0].set_xticks(x)\n",
    "ax[0].set_xticklabels(labels, fontsize=12)\n",
    "ax[0].set_ylim(0,13)\n",
    "#ax[0].annotate(' Result For N95 Mask',xy=(0, 0), xytext=(60, 190),xycoords=('axes fraction', 'axes fraction'),textcoords='offset points',size=14, ha='center', va='bottom', weight='bold')\n",
    "#ax[0].legend(bbox_to_anchor=[0.55,1.2],ncol=3, fontsize=12, loc='center')\n",
    "lt.format_axes(ax[0])\n",
    "\n",
    "rects1 = ax[1].bar(x, rf_pe_u, width, label='Random Forest', ecolor='black', capsize=2.5, align='center')\n",
    "rects2 = ax[1].bar(x + width, lr_pe_u, width, label='Linear Regression', ecolor='black', capsize=2.5, align='center')\n",
    "rects3 = ax[1].bar(x + width*2, svr_pe_u, width, label='Support Vector Regressor', ecolor='black', capsize=2.5, align='center')\n",
    "ax[1].set_title(\"Average Error For Participants With Lung Discomfort\")\n",
    "#ax[1].set_ylabel('Percentage Error',fontsize=12)\n",
    "#ax.set_title('Percentage Error For Differnet Type of Mask', fontsize=12)\n",
    "ax[1].set_xticks(x)\n",
    "ax[1].set_xticklabels(labels, fontsize=12)\n",
    "ax[1].set_ylim(0,13)\n",
    "ax[1].legend(bbox_to_anchor=[0.3,1.5],ncol=3, fontsize=12, loc='center')\n",
    "lt.format_axes(ax[1])\n",
    "\n",
    "\n",
    "\n",
    "\n",
    "#fig.tight_layout()\n",
    "\n",
    "\n",
    "\n",
    "\n",
    "plt.savefig(figname+'.pdf', bbox_inches='tight')"
   ]
  },
  {
   "cell_type": "code",
   "execution_count": 8,
   "metadata": {},
   "outputs": [
    {
     "name": "stderr",
     "output_type": "stream",
     "text": [
      "C:\\ProgramData\\Anaconda3\\lib\\_collections_abc.py:841: MatplotlibDeprecationWarning: Support for setting the 'text.latex.preamble' or 'pgf.preamble' rcParam to a list of strings is deprecated since 3.3 and will be removed two minor releases later; set it to a single string instead.\n",
      "  self[key] = other[key]\n"
     ]
    },
    {
     "data": {
      "image/png": "[encoded data removed]",
      "text/plain": [
       "<Figure size 496.8x144 with 2 Axes>"
      ]
     },
     "metadata": {},
     "output_type": "display_data"
    }
   ],
   "source": [
    "# plots to be manullly made using results from sheet\n",
    "#Cloth Mask\n",
    "\n",
    "rf_pe= [3.5,4.7,5.2]\n",
    "lr_pe = [3.2,6.7,6.3]\n",
    "svr_pe = [8.2,9.7,8.2]\n",
    "\n",
    "rf_std= [1.5,2.2,1.1]\n",
    "lr_std = [1.3,2.2,1.5]\n",
    "svr_std = [2.6,4.5,4.2]\n",
    "\n",
    "rf_pe_u= [6.2,6.8,6.5]\n",
    "lr_pe_u = [9.3,8.6,7.8]\n",
    "svr_pe_u = [2.8,10.1,3.21]\n",
    "\n",
    "\n",
    "figname = 'revised-overall-error-cloth'\n",
    "lt.latexify(columns=2, fig_height=2)\n",
    "labels = ['PEF', 'FEV1', 'FVC']\n",
    "\n",
    "\n",
    "x = np.arange(len(labels))  # the label locations\n",
    "width = 0.30  # the width of the bars\n",
    "\n",
    "fig, ax = plt.subplots(1,2)\n",
    "\n",
    "rects1 = ax[0].bar(x, rf_pe, width, label='Random Forest', yerr=rf_std, ecolor='black', capsize=2.5, align='center')\n",
    "rects2 = ax[0].bar(x + width, lr_pe, width, label='Linear Regression', yerr=lr_std, ecolor='black', capsize=2.5, align='center')\n",
    "rects3 = ax[0].bar(x + width*2, svr_pe, width, label='Support Vector Regressor', yerr=svr_std, ecolor='black', capsize=2.5, align='center')\n",
    "\n",
    "# Add some text for labels, title and custom x-axis tick labels, etc.\n",
    "ax[0].set_title(\"Overall Eror For All Participants\")\n",
    "ax[0].set_ylabel('Percentage Error\\n (Lower is better)',fontsize=12)\n",
    "#ax.set_title('Percentage Error For Differnet Type of Mask', fontsize=12)\n",
    "ax[0].set_xticks(x)\n",
    "ax[0].set_xticklabels(labels, fontsize=12)\n",
    "ax[0].set_ylim(0,13)\n",
    "#ax[0].legend(bbox_to_anchor=[0.55,1.2],ncol=3, fontsize=12, loc='center')\n",
    "#ax[0].annotate(' Result For Cloth Mask',xy=(0, 0), xytext=(60, 190),xycoords=('axes fraction', 'axes fraction'),textcoords='offset points',size=14, ha='center', va='bottom', weight='bold')\n",
    "lt.format_axes(ax[0])\n",
    "\n",
    "rects1 = ax[1].bar(x, rf_pe_u, width, label='Random Forest', ecolor='black', capsize=2.5, align='center')\n",
    "rects2 = ax[1].bar(x + width, lr_pe_u, width, label='Linear Regression', ecolor='black', capsize=2.5, align='center')\n",
    "rects3 = ax[1].bar(x + width*2, svr_pe_u, width, label='Support Vector Regressor', ecolor='black', capsize=2.5, align='center')\n",
    "ax[1].set_title(\"Average Error For Participants With Lung Discomfort\")\n",
    "#ax[1].set_ylabel('Percentage Error',fontsize=12)\n",
    "#ax.set_title('Percentage Error For Differnet Type of Mask', fontsize=12)\n",
    "ax[1].set_xticks(x)\n",
    "ax[1].set_xticklabels(labels, fontsize=12)\n",
    "ax[1].set_ylim(0,13)\n",
    "ax[1].legend(bbox_to_anchor=[0.3,1.5],ncol=3, fontsize=12, loc='center')\n",
    "lt.format_axes(ax[1])\n",
    "\n",
    "\n",
    "\n",
    "\n",
    "#fig.tight_layout()\n",
    "\n",
    "\n",
    "\n",
    "\n",
    "plt.savefig(figname+'.pdf', bbox_inches='tight')"
   ]
  },
  {
   "cell_type": "code",
   "execution_count": null,
   "metadata": {},
   "outputs": [],
   "source": []
  }
 ],
 "metadata": {
  "hide_input": false,
  "kernelspec": {
   "display_name": "Python 3",
   "language": "python",
   "name": "python3"
  },
  "language_info": {
   "codemirror_mode": {
    "name": "ipython",
    "version": 3
   },
   "file_extension": ".py",
   "mimetype": "text/x-python",
   "name": "python",
   "nbconvert_exporter": "python",
   "pygments_lexer": "ipython3",
   "version": "3.6.5"
  }
 },
 "nbformat": 4,
 "nbformat_minor": 2
}
