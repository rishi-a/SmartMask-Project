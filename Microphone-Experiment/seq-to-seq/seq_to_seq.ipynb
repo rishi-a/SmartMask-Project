{
 "cells": [
  {
   "cell_type": "code",
   "execution_count": 1,
   "metadata": {},
   "outputs": [],
   "source": [
    "#import all libraries here\n",
    "import matplotlib.pyplot as plt\n",
    "import pandas as pd\n",
    "import numpy as np\n",
    "from scipy.signal import savgol_filter\n",
    "import os\n",
    "import glob\n"
   ]
  },
  {
   "cell_type": "markdown",
   "metadata": {},
   "source": [
    "# <span style= \"color:orange; font-family:monteserrat ;\" >Data processing</span>"
   ]
  },
  {
   "cell_type": "code",
   "execution_count": 4,
   "metadata": {},
   "outputs": [],
   "source": [
    "# df = pd.read_csv(\"fvc_data/approx-flow-volume-data/clothMask/005_FVC_Cloth_1.json.csv\")\n",
    "\n",
    "\n",
    "# vol = df[\"Volume\"]\n",
    "# flow = df[\"Flow\"]\n",
    "# plt.plot(vol,flow)\n",
    "\n",
    "# print(len(vol))\n",
    "# vol = vol.to_numpy()[::500]\n",
    "# flow = flow.to_numpy()[::500]\n",
    "# plt.plot(vol,flow)\n",
    "def resample_uninformly(file,num_samples):\n",
    "    df = pd.read_csv(file,usecols = [0,1],names=[\"Volume\",\"Flow\"])\n",
    "    vol = df[\"Volume\"].to_numpy()\n",
    "    flow = df[\"Flow\"].to_numpy()\n",
    "\n",
    "    maxx_vol = vol[-1]\n",
    "    x_to_interp = np.arange(0,maxx_vol,(maxx_vol/num_samples)) \n",
    "\n",
    "    y_interp = np.interp(x_to_interp,vol,flow)\n",
    "    return x_to_interp,y_interp\n",
    "\n",
    "\n",
    "# # plt.plot(vol,flow)\n",
    "# plt.rcParams[\"figure.figsize\"] = (5,3)\n",
    "\n",
    "# file = \"fvc_data/ground_truth_flow_volume/sumit.csv\"\n",
    "# num_samples = 32000\n",
    "\n",
    "# x_n,y_n = resample_uninformly(file,num_samples)\n",
    "# print(len(x_n))\n",
    "# plt.plot(x_n,y_n)\n",
    "\n",
    "\n",
    "def create_interpolated_gt_dataset(folder,num_samples,output_folder=\"./\"):\n",
    "    types = (folder + os.sep + '*.csv',)  # the tuple of file types\n",
    "    files_list = []\n",
    "\n",
    "    for files in types:\n",
    "        files_list.extend(glob.glob(files))\n",
    "    \n",
    "    for file in files_list:\n",
    "        print(file)\n",
    "        x,y = resample_uninformly(file,num_samples)\n",
    "        df_tmp = pd.DataFrame({\"Volume\":x,\"Flow\":y})\n",
    "        df_tmp.to_csv(output_folder+\"/\"+file.split(\"/\")[-1])\n",
    "\n",
    "# create_interpolated_gt_dataset(\"fvc_data/ground_truth_flow_volume/\",32000,\"fvc_data/ground_truth_interpolated/\")"
   ]
  },
  {
   "cell_type": "code",
   "execution_count": 14,
   "metadata": {},
   "outputs": [
    {
     "data": {
      "text/plain": [
       "[<matplotlib.lines.Line2D at 0x7f2feeaa2ac0>]"
      ]
     },
     "execution_count": 14,
     "metadata": {},
     "output_type": "execute_result"
    },
    {
     "data": {
      "image/png": "[encoded data removed]",
      "text/plain": [
       "<Figure size 432x288 with 1 Axes>"
      ]
     },
     "metadata": {
      "needs_background": "light"
     },
     "output_type": "display_data"
    }
   ],
   "source": [
    "# df = pd.read_csv(\"fvc_data/approx-flow-volume-data/clothMask/005_FVC_Cloth_1.json.csv\")\n",
    "df = pd.read_csv(\"training_files/X/1.csv\")\n",
    "\n",
    "\n",
    "vol = df[\"Volume\"]\n",
    "flow = df[\"Flow\"]\n",
    "plt.plot((flow-min(flow))/(max(flow)-min(flow)))\n",
    "\n",
    "df = pd.read_csv(\"training_files/y/1.csv\")\n",
    "\n",
    "\n",
    "vol = df[\"Volume\"]\n",
    "flow = df[\"Flow\"]\n",
    "plt.plot((flow-min(flow))/(max(flow)-min(flow)))\n",
    "\n"
   ]
  },
  {
   "cell_type": "code",
   "execution_count": 11,
   "metadata": {},
   "outputs": [
    {
     "name": "stdout",
     "output_type": "stream",
     "text": [
      "(31401, 599)\n"
     ]
    }
   ],
   "source": [
    "def get_windowed_samples(file1,file2,window_size):\n",
    "    \n",
    "    lst1 = pd.read_csv(file1)['Flow'].to_numpy()\n",
    "    lst2 = pd.read_csv(file2)['Flow'].to_numpy()\n",
    "    lst1 = (lst1-min(lst1))/(max(lst1)-min(lst1))\n",
    "    lst2 = (lst2-min(lst2))/(max(lst2)-min(lst2))\n",
    "\n",
    "    \n",
    "    min_len = min(len(lst1),len(lst2))\n",
    "    lst_final1 = []\n",
    "    lst_final2 = []\n",
    "    for i in range(min_len-window_size):\n",
    "        lst_final1.append(lst1[i:i+window_size])\n",
    "        lst_final2.append(lst2[i:i+window_size])\n",
    "\n",
    "    lst_final1 = np.array(lst_final1)\n",
    "    lst_final2 = np.array(lst_final2)\n",
    "    return lst_final1,lst_final2\n",
    "    \n",
    "    \n",
    "def create_main_dataset():\n",
    "#     files_list = [12,13,14]\n",
    "#     files_list = [0,1,3,4,8,9,10]\n",
    "    files_list = [0]\n",
    "\n",
    "    output_arr_X = None\n",
    "    output_arr_y = None\n",
    "    \n",
    "    for file in files_list:\n",
    "        arr_temp1,arr_temp2 = get_windowed_samples(\"training_files/X/{0}.csv\".format(file),\"training_files/y/{0}.csv\".format(file),599)\n",
    "        if output_arr_X is None:\n",
    "            output_arr_X = arr_temp1\n",
    "            output_arr_y = arr_temp2\n",
    "        else:\n",
    "            output_arr_X = np.concatenate([output_arr_X,arr_temp1],axis=0)\n",
    "            output_arr_y = np.concatenate([output_arr_y,arr_temp2],axis=0)\n",
    "    return output_arr_X,output_arr_y\n",
    "    \n",
    "# a,b = get_windowed_samples(\"training_files/X/0.csv\",\"training_files/y/0.csv\",599)\n",
    "# print(a.shape)\n",
    "# X,y = create_main_dataset()\n",
    "# print(X.shape)\n",
    "# print(y.shape)\n",
    "# np.save(\"X_train\",X)\n",
    "# np.save(\"y_train\",y)\n"
   ]
  },
  {
   "cell_type": "code",
   "execution_count": 2,
   "metadata": {},
   "outputs": [],
   "source": [
    "X_train = np.load(\"X_train.npy\")\n",
    "y_train = np.load(\"y_train.npy\")\n",
    "\n",
    "X_test = np.load(\"X_test.npy\")\n",
    "y_test = np.load(\"y_test.npy\")"
   ]
  },
  {
   "cell_type": "code",
   "execution_count": null,
   "metadata": {},
   "outputs": [],
   "source": []
  },
  {
   "cell_type": "code",
   "execution_count": 15,
   "metadata": {},
   "outputs": [
    {
     "name": "stdout",
     "output_type": "stream",
     "text": [
      "(219807, 599)\n",
      "(219807, 599, 1)\n"
     ]
    }
   ],
   "source": [
    "print(X_train.shape)\n",
    "\n",
    "X_train = X_train.reshape(len(X_train),599,1)\n",
    "y_train  = y_train.reshape(len(y_train),599,1)\n",
    "print(X_train.shape)\n",
    "# print(y_train.shape)\n",
    "\n",
    "X_test = X_test.reshape(len(X_test),599,1)\n",
    "y_test = y_test.reshape(len(y_test),599,1)\n",
    "\n",
    "\n"
   ]
  },
  {
   "cell_type": "markdown",
   "metadata": {},
   "source": [
    "## <span style=\"color:red\" > MODEL </span>"
   ]
  },
  {
   "cell_type": "code",
   "execution_count": 17,
   "metadata": {},
   "outputs": [],
   "source": [
    "from keras.models import Sequential\n",
    "from keras.layers import Dense, Conv1D, Flatten\n",
    "\n",
    "\n",
    "model = Sequential()\n",
    "\n",
    "model.add(Conv1D(filters=30, kernel_size=10, activation='relu', strides=1,input_shape=(599,1)))\n",
    "model.add(Conv1D(filters=30, kernel_size=8, activation='relu'))\n",
    "model.add(Conv1D(filters=40, kernel_size=6, activation='relu'))\n",
    "model.add(Conv1D(filters=50, kernel_size=5, activation='relu'))\n",
    "model.add(Conv1D(filters=50, kernel_size=5, activation='relu'))\n",
    "model.add(Flatten())\n",
    "model.add(Dense(1024, activation='relu'))\n",
    "model.add(Dense(599, activation='relu'))\n",
    "\n",
    "model.compile(loss='categorical_crossentropy', optimizer='adam', metrics=[\"mse\"])\n",
    "\n",
    "model.fit(X_train,y_train,epochs = 10,batch_size = 32,verbose=1)\n",
    "\n"
   ]
  },
  {
   "cell_type": "code",
   "execution_count": 6,
   "metadata": {},
   "outputs": [
    {
     "name": "stdout",
     "output_type": "stream",
     "text": [
      "Model: \"sequential\"\n",
      "_________________________________________________________________\n",
      "Layer (type)                 Output Shape              Param #   \n",
      "=================================================================\n",
      "conv1d (Conv1D)              (None, 590, 30)           330       \n",
      "_________________________________________________________________\n",
      "conv1d_1 (Conv1D)            (None, 583, 30)           7230      \n",
      "_________________________________________________________________\n",
      "conv1d_2 (Conv1D)            (None, 578, 40)           7240      \n",
      "_________________________________________________________________\n",
      "conv1d_3 (Conv1D)            (None, 574, 50)           10050     \n",
      "_________________________________________________________________\n",
      "conv1d_4 (Conv1D)            (None, 570, 50)           12550     \n",
      "_________________________________________________________________\n",
      "flatten (Flatten)            (None, 28500)             0         \n",
      "_________________________________________________________________\n",
      "dense (Dense)                (None, 1024)              29185024  \n",
      "_________________________________________________________________\n",
      "dense_1 (Dense)              (None, 599)               613975    \n",
      "=================================================================\n",
      "Total params: 29,836,399\n",
      "Trainable params: 29,836,399\n",
      "Non-trainable params: 0\n",
      "_________________________________________________________________\n"
     ]
    }
   ],
   "source": [
    "model.summary()"
   ]
  }
 ],
 "metadata": {
  "kernelspec": {
   "display_name": "Python 3",
   "language": "python",
   "name": "python3"
  },
  "language_info": {
   "codemirror_mode": {
    "name": "ipython",
    "version": 3
   },
   "file_extension": ".py",
   "mimetype": "text/x-python",
   "name": "python",
   "nbconvert_exporter": "python",
   "pygments_lexer": "ipython3",
   "version": "3.8.5"
  }
 },
 "nbformat": 4,
 "nbformat_minor": 4
}
