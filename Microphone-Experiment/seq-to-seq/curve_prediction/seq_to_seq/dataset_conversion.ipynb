{
 "cells": [
  {
   "cell_type": "code",
   "execution_count": 10,
   "metadata": {},
   "outputs": [],
   "source": [
    "#import all libraries here\n",
    "import matplotlib.pyplot as plt\n",
    "import pandas as pd\n",
    "import numpy as np\n",
    "from scipy.signal import savgol_filter\n",
    "import os\n",
    "import glob\n",
    "\n",
    "from shutil import copyfile,rmtree\n"
   ]
  },
  {
   "cell_type": "code",
   "execution_count": 22,
   "metadata": {},
   "outputs": [],
   "source": [
    "\n",
    "def resample_uninformly(file,num_samples,curve_type = \"flow-volume\"):\n",
    "    df = pd.read_csv(file,usecols = [1,2]).astype(float)\n",
    "    if curve_type==\"flow-volume\":\n",
    "        vol = df[\"Volume\"].to_numpy()\n",
    "        flow = df[\"Flow\"].to_numpy()\n",
    "    elif curve_type ==\"volume-time\":\n",
    "        vol = df[\"time\"].to_numpy()\n",
    "        flow = df[\"Volume\"].to_numpy()        \n",
    "\n",
    "    maxx_vol = vol[-1]\n",
    "    x_to_interp = np.arange(0,maxx_vol,(maxx_vol/num_samples)) \n",
    "\n",
    "    y_interp = np.interp(x_to_interp,vol,flow)\n",
    "    return x_to_interp,y_interp\n",
    "\n",
    "\n",
    "\n",
    "def create_interpolated_gt_dataset(folder,num_samples,output_folder=\"./output\",curve_type=\"flow-volume\"):\n",
    "    \n",
    "    types = (folder + os.sep + '*.csv',)  # the tuple of file types\n",
    "    files_list = []\n",
    "\n",
    "    for files in types:\n",
    "        files_list.extend(glob.glob(files))\n",
    "    if os.path.exists(output_folder) and os.path.isdir(output_folder):\n",
    "        rmtree(output_folder)\n",
    "    yfolder = output_folder+\"/y\"\n",
    "    os.makedirs(output_folder)\n",
    "    os.makedirs(output_folder+\"/X\")\n",
    "    os.makedirs(output_folder+\"/y\")\n",
    "    output_folder = output_folder+\"/X\"\n",
    "    copyfile(\"single_pt_GT_file/y.csv\", yfolder+\"/y.csv\")\n",
    "    \n",
    "    for file in files_list:\n",
    "#         print(num_samples)\n",
    "        x,y = resample_uninformly(file,num_samples,curve_type)\n",
    "        df_tmp = pd.DataFrame({\"Volume\":x,\"Flow\":y})\n",
    "\n",
    "    \n",
    "        df_tmp.to_csv(output_folder+\"/\"+file.split(\"/\")[-1])\n",
    "\n",
    "# create_interpolated_gt_dataset(\"fvc_data/ground_truth_interpolated/ground_truth_flow_volume/\",200,\"fvc_data/ground_truth_interpolated/\")\n",
    "# create_interpolated_gt_dataset(\"fvc_data/approx-flow-volume-data/n95Mask_a/\",200,\"files/X/\")"
   ]
  },
  {
   "cell_type": "code",
   "execution_count": 25,
   "metadata": {},
   "outputs": [],
   "source": [
    "##############        FVC \n",
    "# create_interpolated_gt_dataset(\"fvc_data/approx-volume-time-data/n95Mask_a/\",200,\"files_seq_to_point/FVC/N95/\",curve_type = \"volume-time\")\n",
    "# create_interpolated_gt_dataset(\"fvc_data/approx-volume-time-data/clothMask_a/\",200,\"files_seq_to_point/FVC/Cloth/\",curve_type = \"volume-time\")"
   ]
  },
  {
   "cell_type": "code",
   "execution_count": 26,
   "metadata": {},
   "outputs": [],
   "source": [
    "create_interpolated_gt_dataset(\"fvc_data/approx-volume-time-data/n95Mask_a/\",200,\"files_seq_to_point/FEV/N95/\",curve_type = \"volume-time\")\n",
    "create_interpolated_gt_dataset(\"fvc_data/approx-volume-time-data/clothMask_a/\",200,\"files_seq_to_point/FEV/Cloth/\",curve_type = \"volume-time\")"
   ]
  }
 ],
 "metadata": {
  "kernelspec": {
   "display_name": "Python 3",
   "language": "python",
   "name": "python3"
  },
  "language_info": {
   "codemirror_mode": {
    "name": "ipython",
    "version": 3
   },
   "file_extension": ".py",
   "mimetype": "text/x-python",
   "name": "python",
   "nbconvert_exporter": "python",
   "pygments_lexer": "ipython3",
   "version": "3.8.5"
  }
 },
 "nbformat": 4,
 "nbformat_minor": 4
}
